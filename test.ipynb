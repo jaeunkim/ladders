{
 "cells": [
  {
   "cell_type": "markdown",
   "metadata": {
    "id": "Wcv7Ra2WIpi-"
   },
   "source": [
    "# Testing the ladders library"
   ]
  },
  {
   "cell_type": "code",
   "execution_count": 1,
   "metadata": {},
   "outputs": [],
   "source": [
    "from ladders import Expression\n",
    "from ladders import add, power, compare_expr, scalar_multiply\n",
    "from ladders import print_nonzero_terms, print_kerr"
   ]
  },
  {
   "cell_type": "markdown",
   "metadata": {
    "id": "LQ42RXrPyS4d"
   },
   "source": [
    "## Testing with 2nd and 4th order terms"
   ]
  },
  {
   "cell_type": "markdown",
   "metadata": {
    "id": "3T9y7HoCBirF"
   },
   "source": [
    "### Substituting the position operators with x, y ladder operators"
   ]
  },
  {
   "cell_type": "code",
   "execution_count": 2,
   "metadata": {
    "executionInfo": {
     "elapsed": 54,
     "status": "ok",
     "timestamp": 1755211201029,
     "user": {
      "displayName": "Ja Eun KIM",
      "userId": "07128633758563491625"
     },
     "user_tz": -120
    },
    "id": "1s58i0rQyS4h"
   },
   "outputs": [],
   "source": [
    "# Left hand side means the position operators\n",
    "# Note: 'x' and 'y' in the expressions are ladder operators, not position operators!\n",
    "x = Expression(\"x+(+)x\")\n",
    "y = Expression(\"y+(+)y\")"
   ]
  },
  {
   "cell_type": "code",
   "execution_count": 3,
   "metadata": {
    "colab": {
     "base_uri": "https://localhost:8080/"
    },
    "executionInfo": {
     "elapsed": 5,
     "status": "ok",
     "timestamp": 1755211201030,
     "user": {
      "displayName": "Ja Eun KIM",
      "userId": "07128633758563491625"
     },
     "user_tz": -120
    },
    "id": "F5eypvcrhUGP",
    "outputId": "aed01956-5c4d-405e-d7c1-1a65eec66358"
   },
   "outputs": [
    {
     "data": {
      "text/plain": [
       "<ladders.Expression at 0x1069c9810>"
      ]
     },
     "execution_count": 3,
     "metadata": {},
     "output_type": "execute_result"
    }
   ],
   "source": [
    "x.multiply(x).multiply(x)"
   ]
  },
  {
   "cell_type": "code",
   "execution_count": 4,
   "metadata": {
    "colab": {
     "base_uri": "https://localhost:8080/"
    },
    "executionInfo": {
     "elapsed": 3,
     "status": "ok",
     "timestamp": 1755211201034,
     "user": {
      "displayName": "Ja Eun KIM",
      "userId": "07128633758563491625"
     },
     "user_tz": -120
    },
    "id": "YrW2tKKWyS4h",
    "outputId": "ce3ba795-df2a-4e97-c0e9-16017407b9d0"
   },
   "outputs": [
    {
     "name": "stdout",
     "output_type": "stream",
     "text": [
      "Before x.multiply(x)\n",
      "After x.multiply(x)\n"
     ]
    }
   ],
   "source": [
    "# Left hand side means the position operators\n",
    "# Note: 'x' and 'y' in the expressions are ladder operators, not position operators!\n",
    "x = Expression(\"x+(+)x\")\n",
    "y = Expression(\"y+(+)y\")\n",
    "\n",
    "print(\"Before x.multiply(x)\")\n",
    "x2 = x.multiply(x)\n",
    "print(\"After x.multiply(x)\")\n",
    "y2 = y.multiply(y)\n",
    "x2y2 = x2.multiply(y2)\n",
    "x4 = x2.multiply(x2)\n",
    "y4 = y2.multiply(y2)"
   ]
  },
  {
   "cell_type": "code",
   "execution_count": 5,
   "metadata": {
    "executionInfo": {
     "elapsed": 0,
     "status": "ok",
     "timestamp": 1755211201035,
     "user": {
      "displayName": "Ja Eun KIM",
      "userId": "07128633758563491625"
     },
     "user_tz": -120
    },
    "id": "jKyofKQkyS4i"
   },
   "outputs": [],
   "source": [
    "# verified that this works\n",
    "# the answer should include {'x+_x': 2, 'y+_y': 2, 'x+_x_y+_y': 4,}\n",
    "x2y2_dict = x2y2.expr_dict\n",
    "assert(x2y2_dict['x+_x']==2)\n",
    "assert(x2y2_dict['y+_y']==2)\n",
    "assert(x2y2_dict['x+_x_y+_y']==4)\n",
    "\n",
    "x4_dict = x4.expr_dict  # WOWOWOWOW memoization breaks this test!! why???\n",
    "assert(x4_dict['x+_x+_x_x']==6)\n",
    "assert(x4_dict['x+_x']==12)\n",
    "\n",
    "y4_dict = y4.expr_dict\n",
    "assert(y4_dict['y+_y+_y_y']==6)\n",
    "assert(y4_dict['y+_y']==12)"
   ]
  },
  {
   "cell_type": "code",
   "execution_count": 6,
   "metadata": {
    "executionInfo": {
     "elapsed": 0,
     "status": "ok",
     "timestamp": 1755211201036,
     "user": {
      "displayName": "Ja Eun KIM",
      "userId": "07128633758563491625"
     },
     "user_tz": -120
    },
    "id": "r5dNjdlcFknC"
   },
   "outputs": [],
   "source": [
    "# verifying the implementation of pow()\n",
    "x2 = power(x, 2)\n",
    "y2 = power(y, 2)\n",
    "x2y2 = x2.multiply(y2)\n",
    "x4 = power(x, 4)\n",
    "y4 = power(y, 4)"
   ]
  },
  {
   "cell_type": "code",
   "execution_count": 7,
   "metadata": {
    "colab": {
     "base_uri": "https://localhost:8080/"
    },
    "executionInfo": {
     "elapsed": 3,
     "status": "ok",
     "timestamp": 1755211201040,
     "user": {
      "displayName": "Ja Eun KIM",
      "userId": "07128633758563491625"
     },
     "user_tz": -120
    },
    "id": "gq6Q9j4KU-ja",
    "outputId": "dbebe90b-644e-41bb-c9c9-eb454f3017bb"
   },
   "outputs": [
    {
     "data": {
      "text/plain": [
       "{'x+_x+_y+_y+': 1,\n",
       " 'x+_x+_y+_y': 2,\n",
       " 'x+_x+': 1,\n",
       " 'x+_x+_y_y': 1,\n",
       " 'x+_x_y+_y+': 2,\n",
       " 'x+_x_y+_y': 4,\n",
       " 'x+_x': 2,\n",
       " 'x+_x_y_y': 2,\n",
       " 'y+_y+': 1,\n",
       " 'y+_y': 2,\n",
       " '': 1,\n",
       " 'y_y': 1,\n",
       " 'x_x_y+_y+': 1,\n",
       " 'x_x_y+_y': 2,\n",
       " 'x_x': 1,\n",
       " 'x_x_y_y': 1}"
      ]
     },
     "execution_count": 7,
     "metadata": {},
     "output_type": "execute_result"
    }
   ],
   "source": [
    "x2y2_dict"
   ]
  },
  {
   "cell_type": "code",
   "execution_count": 8,
   "metadata": {
    "executionInfo": {
     "elapsed": 1,
     "status": "ok",
     "timestamp": 1755211201059,
     "user": {
      "displayName": "Ja Eun KIM",
      "userId": "07128633758563491625"
     },
     "user_tz": -120
    },
    "id": "a9pD6d8MGYpM"
   },
   "outputs": [],
   "source": [
    "# verify again with power() results\n",
    "# the answer should include {'x+_x': 2, 'y+_y': 2, 'x+_x_y+_y': 4,}\n",
    "x2y2_dict = x2y2.expr_dict\n",
    "assert(x2y2_dict['x+_x']==2)\n",
    "assert(x2y2_dict['y+_y']==2)\n",
    "assert(x2y2_dict['x+_x_y+_y']==4)\n",
    "\n",
    "x4_dict = x4.expr_dict  # WOWOWOWOW memoization breaks this test!!\n",
    "assert(x4_dict['x+_x+_x_x']==6)\n",
    "assert(x4_dict['x+_x']==12)\n",
    "\n",
    "y4_dict = y4.expr_dict\n",
    "assert(y4_dict['y+_y+_y_y']==6)\n",
    "assert(y4_dict['y+_y']==12)"
   ]
  },
  {
   "cell_type": "markdown",
   "metadata": {
    "id": "bARCoZhnIJrY"
   },
   "source": [
    "### Substituting the x, y ladder operators with cyclotron and magnetron ladder operators"
   ]
  },
  {
   "cell_type": "code",
   "execution_count": 9,
   "metadata": {
    "executionInfo": {
     "elapsed": 4,
     "status": "ok",
     "timestamp": 1755211201719,
     "user": {
      "displayName": "Ja Eun KIM",
      "userId": "07128633758563491625"
     },
     "user_tz": -120
    },
    "id": "kv3ReMc8TIU0"
   },
   "outputs": [],
   "source": [
    "ax = Expression(\"a(+)1.jb\")\n",
    "ax_dag= Expression(\"a+(+)-1.jb+\")\n",
    "\n",
    "ay = Expression(\"1.ja(+)b\")\n",
    "ay_dag = Expression(\"-1.ja+(+)b+\")"
   ]
  },
  {
   "cell_type": "code",
   "execution_count": 10,
   "metadata": {
    "colab": {
     "base_uri": "https://localhost:8080/"
    },
    "executionInfo": {
     "elapsed": 47,
     "status": "ok",
     "timestamp": 1755211201955,
     "user": {
      "displayName": "Ja Eun KIM",
      "userId": "07128633758563491625"
     },
     "user_tz": -120
    },
    "id": "HQAccpGxyS4f",
    "outputId": "16bc63ed-d0c2-49a6-e5bb-c6f979bf7f92"
   },
   "outputs": [
    {
     "name": "stdout",
     "output_type": "stream",
     "text": [
      "ax:  {'a': 1, 'b': 1j}\n",
      "ax_dag:  {'a+': 1, 'b+': -1j}\n",
      "ay:  {'a': 1j, 'b': 1}\n",
      "ay_dag:  {'a+': -1j, 'b+': 1}\n"
     ]
    }
   ],
   "source": [
    "print(\"ax: \", ax.expr_dict)\n",
    "print(\"ax_dag: \", ax_dag.expr_dict)\n",
    "print(\"ay: \", ay.expr_dict)\n",
    "print(\"ay_dag: \", ay_dag.expr_dict)"
   ]
  },
  {
   "cell_type": "code",
   "execution_count": 11,
   "metadata": {
    "executionInfo": {
     "elapsed": 6,
     "status": "ok",
     "timestamp": 1755211202168,
     "user": {
      "displayName": "Ja Eun KIM",
      "userId": "07128633758563491625"
     },
     "user_tz": -120
    },
    "id": "PuWeXHoHyS4f"
   },
   "outputs": [],
   "source": [
    "# verified that this works\n",
    "# the answer should be {'a+_a': 1, 'a+_b': 1j, 'a_b+': -1j, 'b+_b': (1+0j)}\n",
    "x_ladder_pm = ax_dag.multiply(ax)\n",
    "\n",
    "assert(x_ladder_pm.expr_dict['a+_a']==1)\n",
    "assert(x_ladder_pm.expr_dict['a+_b']==1.j)\n",
    "assert(x_ladder_pm.expr_dict['a_b+']==-1.j)\n",
    "assert(x_ladder_pm.expr_dict['b+_b']==1)"
   ]
  },
  {
   "cell_type": "code",
   "execution_count": 12,
   "metadata": {
    "executionInfo": {
     "elapsed": 1,
     "status": "ok",
     "timestamp": 1755211202606,
     "user": {
      "displayName": "Ja Eun KIM",
      "userId": "07128633758563491625"
     },
     "user_tz": -120
    },
    "id": "1Fitur-nI-fy"
   },
   "outputs": [],
   "source": [
    "# verified that this works\n",
    "# the answer should be {'a+_a': 1, 'a+_b': -1j, 'a_b+': -j, 'b+_b': (1+0j)}\n",
    "y_ladder_pm = ay_dag.multiply(ay)\n",
    "assert(y_ladder_pm.expr_dict['a+_a']==1)\n",
    "assert(y_ladder_pm.expr_dict['a+_b']==-1.j)\n",
    "assert(y_ladder_pm.expr_dict['a_b+']==1.j)\n",
    "assert(y_ladder_pm.expr_dict['b+_b']==1)"
   ]
  },
  {
   "cell_type": "code",
   "execution_count": 13,
   "metadata": {
    "executionInfo": {
     "elapsed": 2,
     "status": "ok",
     "timestamp": 1755211202900,
     "user": {
      "displayName": "Ja Eun KIM",
      "userId": "07128633758563491625"
     },
     "user_tz": -120
    },
    "id": "4AR0RROryS4i"
   },
   "outputs": [],
   "source": [
    "# verified, the answer should include {'a+_a+_a_a': 1, 'b+_b+_b_b': (1+0j)}, 'a+_a_b+_b': (4+0j)}\n",
    "x_ladder_ppmm = ax_dag.multiply(ax_dag).multiply(ax).multiply(ax)\n",
    "assert(x_ladder_ppmm.expr_dict['a+_a+_a_a']==1)\n",
    "assert(x_ladder_ppmm.expr_dict['b+_b+_b_b']==1)\n",
    "assert(x_ladder_ppmm.expr_dict['a+_a_b+_b']==4)"
   ]
  },
  {
   "cell_type": "code",
   "execution_count": 14,
   "metadata": {
    "executionInfo": {
     "elapsed": 10,
     "status": "ok",
     "timestamp": 1755211203132,
     "user": {
      "displayName": "Ja Eun KIM",
      "userId": "07128633758563491625"
     },
     "user_tz": -120
    },
    "id": "QmwZCF_OJdJc"
   },
   "outputs": [],
   "source": [
    "# verified, the answer should include {'a+_a+_a_a': 1, 'b+_b+_b_b': (1+0j)}, 'a+_a_b+_b': (4+0j)}\n",
    "# (it happens to be the same with x_ladder_ppmm)\n",
    "y_ladder_ppmm = ax_dag.multiply(ax_dag).multiply(ax).multiply(ax)\n",
    "assert(y_ladder_ppmm.expr_dict['a+_a+_a_a']==1)\n",
    "assert(y_ladder_ppmm.expr_dict['b+_b+_b_b']==1)\n",
    "assert(y_ladder_ppmm.expr_dict['a+_a_b+_b']==4)"
   ]
  },
  {
   "cell_type": "code",
   "execution_count": 15,
   "metadata": {
    "executionInfo": {
     "elapsed": 10,
     "status": "ok",
     "timestamp": 1755211203316,
     "user": {
      "displayName": "Ja Eun KIM",
      "userId": "07128633758563491625"
     },
     "user_tz": -120
    },
    "id": "By7dTjFkKAqz"
   },
   "outputs": [],
   "source": [
    "# (ax^\\dag)* ax * (ay^\\dag) * ay\n",
    "# verified, the answer should include {'a+_a+_a_a': (1+0j), 'b+_b+_b_b': (1+0j)}\n",
    "xdag_x_ydag_y = x_ladder_pm.multiply(y_ladder_pm)\n",
    "assert(xdag_x_ydag_y.expr_dict['a+_a+_a_a']==1)\n",
    "assert(xdag_x_ydag_y.expr_dict['b+_b+_b_b']==1)"
   ]
  },
  {
   "cell_type": "markdown",
   "metadata": {
    "id": "04HIDoLtpdcx"
   },
   "source": [
    "### Directly using x, y, position operators to get expressions in cyclotron & magnetron operators"
   ]
  },
  {
   "cell_type": "code",
   "execution_count": 16,
   "metadata": {
    "executionInfo": {
     "elapsed": 6,
     "status": "ok",
     "timestamp": 1755211204353,
     "user": {
      "displayName": "Ja Eun KIM",
      "userId": "07128633758563491625"
     },
     "user_tz": -120
    },
    "id": "4XPsUk6apord"
   },
   "outputs": [],
   "source": [
    "x = add(ax_dag, ax)  # * np.sqrt(hbar/(2m(omega_1)))\n",
    "y = add(ay_dag, ay)  # * np.sqrt(hbar/(2m(omega_1)))\n",
    "\n",
    "xy = x.multiply(y)\n",
    "yx = y.multiply(x)\n",
    "\n",
    "assert(compare_expr(xy, yx)==True)"
   ]
  },
  {
   "cell_type": "markdown",
   "metadata": {
    "id": "stQkrDfhLjqP"
   },
   "source": [
    "## Calculating C4 terms"
   ]
  },
  {
   "cell_type": "markdown",
   "metadata": {
    "id": "Rlq-CXVbnUd5"
   },
   "source": [
    "### Method A: Two stages of substitution (Manual RWA in between)\n",
    "The result is incorrect, but not because of program bug. Manual RWA was incorrect."
   ]
  },
  {
   "cell_type": "code",
   "execution_count": 17,
   "metadata": {
    "executionInfo": {
     "elapsed": 2,
     "status": "ok",
     "timestamp": 1755211214006,
     "user": {
      "displayName": "Ja Eun KIM",
      "userId": "07128633758563491625"
     },
     "user_tz": -120
    },
    "id": "ytSh99gwLzOm"
   },
   "outputs": [],
   "source": [
    "# Step 1. verify x, y position -> x, y ladder\n",
    "c4_wrt_xy_ladder = add(add(x4, y4), scalar_multiply(x2y2, -6))\n",
    "\n",
    "assert(c4_wrt_xy_ladder.expr_dict[\"x+_x+_x_x\"] == 6)\n",
    "assert(c4_wrt_xy_ladder.expr_dict[\"y+_y+_y_y\"] == 6)\n",
    "assert(c4_wrt_xy_ladder.expr_dict[\"x+_x_y+_y\"] == -24)"
   ]
  },
  {
   "cell_type": "code",
   "execution_count": 18,
   "metadata": {
    "executionInfo": {
     "elapsed": 3,
     "status": "ok",
     "timestamp": 1755211215890,
     "user": {
      "displayName": "Ja Eun KIM",
      "userId": "07128633758563491625"
     },
     "user_tz": -120
    },
    "id": "1ueiSnAvuLoG"
   },
   "outputs": [],
   "source": [
    "# print(x4_dict)\n",
    "# print(y4_dict)\n",
    "# print(add(x4, y4).expr_dict)\n",
    "# print(scalar_multiply(x2y2, -6).expr_dict)\n",
    "# print(add(add(x4, y4), scalar_multiply(x2y2, -6)).expr_dict)"
   ]
  },
  {
   "cell_type": "code",
   "execution_count": 19,
   "metadata": {
    "colab": {
     "base_uri": "https://localhost:8080/"
    },
    "executionInfo": {
     "elapsed": 4,
     "status": "ok",
     "timestamp": 1755211216390,
     "user": {
      "displayName": "Ja Eun KIM",
      "userId": "07128633758563491625"
     },
     "user_tz": -120
    },
    "id": "BJWkSUcGhKdQ",
    "outputId": "061c4f04-2ff5-4b15-ff1f-2cec97899232"
   },
   "outputs": [
    {
     "name": "stdout",
     "output_type": "stream",
     "text": [
      "Non-zero terms:\n",
      "x+_x+_x+_x+ : \t 1\n",
      "x+_x+_x+_x : \t 4\n",
      "x+_x+_x_x : \t 6\n",
      "x+_x_x_x : \t 4\n",
      "x_x_x_x : \t 1\n",
      "y+_y+_y+_y+ : \t 1\n",
      "y+_y+_y+_y : \t 4\n",
      "y+_y+_y_y : \t 6\n",
      "y+_y_y_y : \t 4\n",
      "y_y_y_y : \t 1\n",
      "x+_x+_y+_y+ : \t -6\n",
      "x+_x+_y+_y : \t -12\n",
      "x+_x+_y_y : \t -6\n",
      "x+_x_y+_y+ : \t -12\n",
      "x+_x_y+_y : \t -24\n",
      "x+_x_y_y : \t -12\n",
      "x_x_y+_y+ : \t -6\n",
      "x_x_y+_y : \t -12\n",
      "x_x_y_y : \t -6\n"
     ]
    }
   ],
   "source": [
    "print_nonzero_terms(c4_wrt_xy_ladder)"
   ]
  },
  {
   "cell_type": "code",
   "execution_count": 20,
   "metadata": {
    "colab": {
     "base_uri": "https://localhost:8080/"
    },
    "executionInfo": {
     "elapsed": 15,
     "status": "ok",
     "timestamp": 1755211225987,
     "user": {
      "displayName": "Ja Eun KIM",
      "userId": "07128633758563491625"
     },
     "user_tz": -120
    },
    "id": "AndJ-dj9NnO0",
    "outputId": "0790c76d-a1e1-48fc-d5dd-3bbe133dbfb9"
   },
   "outputs": [
    {
     "data": {
      "text/plain": [
       "{'a+_a+_a_a': (-12+0j),\n",
       " 'a+_a+_a_b': 24j,\n",
       " 'a+_a+_b_b': (-36+0j),\n",
       " 'a+_a_a_b+': -24j,\n",
       " 'a+_a_b+_b': (48+0j),\n",
       " 'a+_b+_b_b': 24j,\n",
       " 'a_a_b+_b+': (-36+0j),\n",
       " 'a_b+_b+_b': -24j,\n",
       " 'b+_b+_b_b': (-12+0j),\n",
       " 'a+_a': (-0+0j),\n",
       " 'a+_b': (-0+0j),\n",
       " 'a_b+': (-0+0j),\n",
       " 'b+_b': (-0+0j)}"
      ]
     },
     "execution_count": 20,
     "metadata": {},
     "output_type": "execute_result"
    }
   ],
   "source": [
    "# Step 2. x, y ladder -> cyclotron, magnetron\n",
    "c4_final = add(add(scalar_multiply(x_ladder_ppmm, 6), scalar_multiply(y_ladder_ppmm, 6)),\n",
    "    scalar_multiply(xdag_x_ydag_y, -24))\n",
    "\n",
    "# factor 4 coming from the fact that x=1/sqrt(2)(ax_dag + ax), and these are 4th order terms.\n",
    "# the code works but this result is physically incorrect!!\n",
    "normalization = 4  # this is 4th power of sqrt(2)\n",
    "assert(c4_final.expr_dict[\"a+_a+_a_a\"] / normalization == -3)\n",
    "assert(c4_final.expr_dict[\"b+_b+_b_b\"] / normalization == -3)\n",
    "assert(c4_final.expr_dict[\"a+_a_b+_b\"] / normalization == 12)\n",
    "c4_final.expr_dict"
   ]
  },
  {
   "cell_type": "code",
   "execution_count": 21,
   "metadata": {
    "colab": {
     "base_uri": "https://localhost:8080/"
    },
    "executionInfo": {
     "elapsed": 5,
     "status": "ok",
     "timestamp": 1755211227249,
     "user": {
      "displayName": "Ja Eun KIM",
      "userId": "07128633758563491625"
     },
     "user_tz": -120
    },
    "id": "HRnnIsjywJv_",
    "outputId": "ca304af8-8383-415a-97a4-2ed8e2c3cc58"
   },
   "outputs": [
    {
     "data": {
      "text/plain": [
       "{'x+_x+_x+_x+': 1,\n",
       " 'x+_x+_x+_x': 4,\n",
       " 'x+_x+': 6,\n",
       " 'x+_x+_x_x': 6,\n",
       " 'x+_x': 12,\n",
       " 'x+_x_x_x': 4,\n",
       " '': 3,\n",
       " 'x_x': 6,\n",
       " 'x_x_x_x': 1}"
      ]
     },
     "execution_count": 21,
     "metadata": {},
     "output_type": "execute_result"
    }
   ],
   "source": [
    "x4.expr_dict"
   ]
  },
  {
   "cell_type": "markdown",
   "metadata": {
    "id": "Bnezn5OYncuD"
   },
   "source": [
    "### Method B: Automatically expand all terms, no approximation"
   ]
  },
  {
   "cell_type": "code",
   "execution_count": 22,
   "metadata": {
    "executionInfo": {
     "elapsed": 40,
     "status": "ok",
     "timestamp": 1755211236453,
     "user": {
      "displayName": "Ja Eun KIM",
      "userId": "07128633758563491625"
     },
     "user_tz": -120
    },
    "id": "sBhMRyQ6PC_C"
   },
   "outputs": [],
   "source": [
    "## Method B: doing it all at once.\n",
    "# In this section, I also verified the implementation of pow()\n",
    "# by calculating c4 in both ways and checking that they're same.\n",
    "\n",
    "# # Do the correct normalization this time\n",
    "# ax = scalar_multiply(Expression(\"a(+)1.jb\"), 1/np.sqrt(2))\n",
    "# ax_dag= scalar_multiply(Expression(\"a+(+)-1.jb+\"), 1/np.sqrt(2))\n",
    "# ay = scalar_multiply(Expression(\"1.ja(+)b\"), 1/np.sqrt(2))\n",
    "# ay_dag = scalar_multiply(Expression(\"-1.ja+(+)b+\"), 1/np.sqrt(2))\n",
    "\n",
    "# defining variables with pow()\n",
    "x = add(ax_dag, ax)  # * np.sqrt(hbar/(2m(omega_1)))\n",
    "y = add(ay_dag, ay)  # * np.sqrt(hbar/(2m(omega_1)))\n",
    "x2_pow = power(x, 2)\n",
    "y2_pow = power(y, 2)\n",
    "x2y2_pow = x2_pow.multiply(y2_pow)\n",
    "x4_pow = power(x, 4)\n",
    "y4_pow = power(y, 4)"
   ]
  },
  {
   "cell_type": "code",
   "execution_count": 23,
   "metadata": {
    "colab": {
     "base_uri": "https://localhost:8080/"
    },
    "executionInfo": {
     "elapsed": 5,
     "status": "ok",
     "timestamp": 1755211241917,
     "user": {
      "displayName": "Ja Eun KIM",
      "userId": "07128633758563491625"
     },
     "user_tz": -120
    },
    "id": "hWgBhFM2-IpJ",
    "outputId": "d20ebd57-4eec-4877-8f6d-891dc6d487a6"
   },
   "outputs": [
    {
     "data": {
      "text/plain": [
       "{'a+': 1, 'b+': -1j, 'a': 1, 'b': 1j}"
      ]
     },
     "execution_count": 23,
     "metadata": {},
     "output_type": "execute_result"
    }
   ],
   "source": [
    "x.expr_dict"
   ]
  },
  {
   "cell_type": "code",
   "execution_count": 24,
   "metadata": {
    "colab": {
     "base_uri": "https://localhost:8080/"
    },
    "executionInfo": {
     "elapsed": 5,
     "status": "ok",
     "timestamp": 1755211242430,
     "user": {
      "displayName": "Ja Eun KIM",
      "userId": "07128633758563491625"
     },
     "user_tz": -120
    },
    "id": "av64hwpH-K0T",
    "outputId": "d8b4a45e-4a19-40aa-d2d0-13d7154398f6"
   },
   "outputs": [
    {
     "data": {
      "text/plain": [
       "{'a+': -1j, 'b+': 1, 'a': 1j, 'b': 1}"
      ]
     },
     "execution_count": 24,
     "metadata": {},
     "output_type": "execute_result"
    }
   ],
   "source": [
    "y.expr_dict"
   ]
  },
  {
   "cell_type": "code",
   "execution_count": 25,
   "metadata": {
    "executionInfo": {
     "elapsed": 3,
     "status": "ok",
     "timestamp": 1755211243091,
     "user": {
      "displayName": "Ja Eun KIM",
      "userId": "07128633758563491625"
     },
     "user_tz": -120
    },
    "id": "bGtULy1M9WmA"
   },
   "outputs": [],
   "source": [
    "c4_final_pow = add(add(x4_pow, y4_pow), scalar_multiply(x2y2_pow, -6))"
   ]
  },
  {
   "cell_type": "code",
   "execution_count": 26,
   "metadata": {
    "colab": {
     "base_uri": "https://localhost:8080/"
    },
    "executionInfo": {
     "elapsed": 4,
     "status": "ok",
     "timestamp": 1755211243550,
     "user": {
      "displayName": "Ja Eun KIM",
      "userId": "07128633758563491625"
     },
     "user_tz": -120
    },
    "id": "uQvwxATu9gLi",
    "outputId": "40a50f7e-d71d-4c7f-f385-61935d6399da"
   },
   "outputs": [
    {
     "name": "stdout",
     "output_type": "stream",
     "text": [
      "Non-zero terms:\n",
      "a+_a+_a+_a+ : \t (8+0j)\n",
      "a+_a+_a+_b : \t 32j\n",
      "a+_a+_b_b : \t (-48+0j)\n",
      "a+_b_b_b : \t -32j\n",
      "b+_b+_b+_b+ : \t (8+0j)\n",
      "a_b+_b+_b+ : \t 32j\n",
      "a_a_b+_b+ : \t (-48+0j)\n",
      "a_a_a_b+ : \t -32j\n",
      "a_a_a_a : \t (8+0j)\n",
      "b_b_b_b : \t (8+0j)\n"
     ]
    }
   ],
   "source": [
    "print_nonzero_terms(c4_final_pow)"
   ]
  },
  {
   "cell_type": "code",
   "execution_count": 27,
   "metadata": {
    "colab": {
     "base_uri": "https://localhost:8080/"
    },
    "executionInfo": {
     "elapsed": 21,
     "status": "ok",
     "timestamp": 1755211244366,
     "user": {
      "displayName": "Ja Eun KIM",
      "userId": "07128633758563491625"
     },
     "user_tz": -120
    },
    "id": "foqo6KoCVsYc",
    "outputId": "3d334c81-4541-4417-d29b-bff86e4aff40"
   },
   "outputs": [
    {
     "name": "stdout",
     "output_type": "stream",
     "text": [
      "True\n",
      "True\n",
      "True\n",
      "True\n",
      "True\n"
     ]
    }
   ],
   "source": [
    "# verified pow() implementation against multiply()\n",
    "x2 = x.multiply(x)\n",
    "y2 = y.multiply(y)\n",
    "x2y2 = x2.multiply(y2)\n",
    "\n",
    "x2y2 = x.multiply(x).multiply(y).multiply(y)\n",
    "x4 = x.multiply(x).multiply(x).multiply(x)\n",
    "y4 = y.multiply(y).multiply(y).multiply(y)\n",
    "\n",
    "print(compare_expr(x2_pow, x2))\n",
    "print(compare_expr(y2_pow, y2))\n",
    "print(compare_expr(x4_pow, x4))\n",
    "print(compare_expr(y4_pow, y4))\n",
    "print(compare_expr(x2y2_pow, x2y2))"
   ]
  },
  {
   "cell_type": "code",
   "execution_count": 28,
   "metadata": {
    "executionInfo": {
     "elapsed": 3,
     "status": "ok",
     "timestamp": 1755211245339,
     "user": {
      "displayName": "Ja Eun KIM",
      "userId": "07128633758563491625"
     },
     "user_tz": -120
    },
    "id": "UODzytgDoIjP"
   },
   "outputs": [],
   "source": [
    "c4_final = add(add(x4, y4), scalar_multiply(x2y2, -6))"
   ]
  },
  {
   "cell_type": "code",
   "execution_count": 29,
   "metadata": {
    "colab": {
     "base_uri": "https://localhost:8080/"
    },
    "executionInfo": {
     "elapsed": 10,
     "status": "ok",
     "timestamp": 1755211245799,
     "user": {
      "displayName": "Ja Eun KIM",
      "userId": "07128633758563491625"
     },
     "user_tz": -120
    },
    "id": "8zN5sMQJoLwP",
    "outputId": "62d0ed02-a93a-4f81-b29d-fc76b055dfb8"
   },
   "outputs": [
    {
     "name": "stdout",
     "output_type": "stream",
     "text": [
      "Non-zero terms:\n",
      "a+_a+_a+_a+ : \t (8+0j)\n",
      "a+_a+_a+_b : \t 32j\n",
      "a+_a+_b_b : \t (-48+0j)\n",
      "a+_b_b_b : \t -32j\n",
      "b+_b+_b+_b+ : \t (8+0j)\n",
      "a_b+_b+_b+ : \t 32j\n",
      "a_a_b+_b+ : \t (-48+0j)\n",
      "a_a_a_b+ : \t -32j\n",
      "a_a_a_a : \t (8+0j)\n",
      "b_b_b_b : \t (8+0j)\n"
     ]
    }
   ],
   "source": [
    "print_nonzero_terms(c4_final)"
   ]
  },
  {
   "cell_type": "code",
   "execution_count": 30,
   "metadata": {
    "colab": {
     "base_uri": "https://localhost:8080/"
    },
    "executionInfo": {
     "elapsed": 4,
     "status": "ok",
     "timestamp": 1755211246038,
     "user": {
      "displayName": "Ja Eun KIM",
      "userId": "07128633758563491625"
     },
     "user_tz": -120
    },
    "id": "k-FeYQ8jWpeZ",
    "outputId": "0360b68d-2b03-4b61-877c-1485c0973c4f"
   },
   "outputs": [
    {
     "data": {
      "text/plain": [
       "True"
      ]
     },
     "execution_count": 30,
     "metadata": {},
     "output_type": "execute_result"
    }
   ],
   "source": [
    "compare_expr(c4_final_pow, c4_final)"
   ]
  },
  {
   "cell_type": "code",
   "execution_count": 31,
   "metadata": {
    "colab": {
     "base_uri": "https://localhost:8080/"
    },
    "executionInfo": {
     "elapsed": 4,
     "status": "ok",
     "timestamp": 1755211246571,
     "user": {
      "displayName": "Ja Eun KIM",
      "userId": "07128633758563491625"
     },
     "user_tz": -120
    },
    "id": "IPdeX01iXpxt",
    "outputId": "a4e722b1-ad8a-4e5b-daa5-98a04ae93d16"
   },
   "outputs": [
    {
     "data": {
      "text/plain": [
       "True"
      ]
     },
     "execution_count": 31,
     "metadata": {},
     "output_type": "execute_result"
    }
   ],
   "source": [
    "compare_expr(scalar_multiply(x2y2_pow, -6), scalar_multiply(x2y2, -6))"
   ]
  },
  {
   "cell_type": "markdown",
   "metadata": {
    "id": "F7KnbbL4onFr"
   },
   "source": [
    "## RWA problem!\n",
    "During two-stage substitution calculation (my hand calculation, sensei's Mathematica, and \"Method A\" in this notebook)   We all approximated $x^2y^2$ to $4a_x^†a_xa_y^†a_y + 2a_x^†a_x + 2a_y^†a_y$.  But we should have also included $a_x^†a_x^†a_ya_y+a_xa_xa_y^†a_y^†$, because we are looking for terms that has two (magnetron and cyclotron) creation operators and two annihilation operators.  However, it seems like we get quite different results if we expand all terms. There would be no cross Kerr and and even no self Kerr. This result doesn't make sense, because it would mean that the potential is automatically always harmonic.\n",
    "\n",
    "*   2025/08/01 morning Update: sensei also confirmed with his Mathematica that there's no self Kerr and cross Kerr.\n",
    "\n"
   ]
  },
  {
   "cell_type": "markdown",
   "metadata": {
    "id": "_S2teWcDzWs-"
   },
   "source": [
    "## Another C4 term to get nonzero Kerr"
   ]
  },
  {
   "cell_type": "code",
   "execution_count": 32,
   "metadata": {
    "executionInfo": {
     "elapsed": 3,
     "status": "ok",
     "timestamp": 1755211285788,
     "user": {
      "displayName": "Ja Eun KIM",
      "userId": "07128633758563491625"
     },
     "user_tz": -120
    },
    "id": "Uh7YIMzyzobs"
   },
   "outputs": [],
   "source": [
    "z = Expression(\"z+(+)z\")  # * 1/np.sqrt(omega_z)\n",
    "z2 = power(z, 2)\n",
    "z4 = power(z, 4)\n",
    "x2z2 = x2.multiply(z2)\n",
    "\n",
    "# C_4 (x^4 + z^4 - 6 x^2 z^2)\n",
    "new_c4 = add(add(x4, z4) , scalar_multiply(x2z2, -6))"
   ]
  },
  {
   "cell_type": "code",
   "execution_count": 33,
   "metadata": {
    "colab": {
     "base_uri": "https://localhost:8080/"
    },
    "executionInfo": {
     "elapsed": 4,
     "status": "ok",
     "timestamp": 1755211286266,
     "user": {
      "displayName": "Ja Eun KIM",
      "userId": "07128633758563491625"
     },
     "user_tz": -120
    },
    "id": "Bq6Qkn5w1o1G",
    "outputId": "ec183297-8594-44f3-e0e5-d5333e54cbaf"
   },
   "outputs": [
    {
     "name": "stdout",
     "output_type": "stream",
     "text": [
      "a mode self-Kerr:  6\n",
      "b mode self-Kerr:  (6+0j)\n",
      "magnetron-cyclotron cross-Kerr:  (24+0j)\n",
      "z mode self-Kerr:  6\n",
      "z-a cross-Kerr:  -12\n",
      "z-b cross-Kerr:  (-12+0j)\n"
     ]
    }
   ],
   "source": [
    "print(\"a mode self-Kerr: \", new_c4.expr_dict[\"a+_a+_a_a\"])\n",
    "print(\"b mode self-Kerr: \", new_c4.expr_dict[\"b+_b+_b_b\"])\n",
    "print(\"magnetron-cyclotron cross-Kerr: \", new_c4.expr_dict[\"a+_a_b+_b\"])\n",
    "\n",
    "print(\"z mode self-Kerr: \", new_c4.expr_dict[\"z+_z+_z_z\"])\n",
    "print(\"z-a cross-Kerr: \", new_c4.expr_dict[\"a+_a_z+_z+\"])\n",
    "print(\"z-b cross-Kerr: \", new_c4.expr_dict[\"b+_b_z+_z+\"])"
   ]
  },
  {
   "cell_type": "code",
   "execution_count": 34,
   "metadata": {
    "colab": {
     "base_uri": "https://localhost:8080/"
    },
    "executionInfo": {
     "elapsed": 44,
     "status": "ok",
     "timestamp": 1755211289714,
     "user": {
      "displayName": "Ja Eun KIM",
      "userId": "07128633758563491625"
     },
     "user_tz": -120
    },
    "id": "t5k5Zggk1VnX",
    "outputId": "7082d10c-3d9a-4228-d232-7e3707ee6a2c"
   },
   "outputs": [
    {
     "data": {
      "text/plain": [
       "{'a+_a+_a+_a+': 1,\n",
       " 'a+_a+_a+_b+': -4j,\n",
       " 'a+_a+_a+_a': 4,\n",
       " 'a+_a+_a+_b': 4j,\n",
       " 'a+_a+_b+_b+': (-6-0j),\n",
       " 'a+_a+_a_b+': -12j,\n",
       " 'a+_a+_b+_b': (12+0j),\n",
       " 'a+_a+': (6+0j),\n",
       " 'a+_a+_a_a': 6,\n",
       " 'a+_a+_a_b': 12j,\n",
       " 'a+_a+_b_b': (-6+0j),\n",
       " 'a+_b+_b+_b+': (-0+4j),\n",
       " 'a+_a_b+_b+': (-12-0j),\n",
       " 'a+_b+_b+_b': -12j,\n",
       " 'a+_b+': -12j,\n",
       " 'a+_a_a_b+': -12j,\n",
       " 'a+_a_b+_b': (24+0j),\n",
       " 'a+_b+_b_b': 12j,\n",
       " 'a+_a': (12+0j),\n",
       " 'a+_b': 12j,\n",
       " 'a+_a_a_a': 4,\n",
       " 'a+_a_a_b': 12j,\n",
       " 'a+_a_b_b': (-12+0j),\n",
       " 'a+_b_b_b': -4j,\n",
       " 'b+_b+_b+_b+': (1+0j),\n",
       " 'a_b+_b+_b+': (-0+4j),\n",
       " 'b+_b+_b+_b': (-4+0j),\n",
       " 'b+_b+': (-6+0j),\n",
       " 'a_a_b+_b+': (-6-0j),\n",
       " 'a_b+_b+_b': -12j,\n",
       " 'b+_b+_b_b': (6+0j),\n",
       " 'a_b+': -12j,\n",
       " 'b+_b': (12+0j),\n",
       " 'a_a_a_b+': -4j,\n",
       " 'a_a_b+_b': (12+0j),\n",
       " 'a_b+_b_b': 12j,\n",
       " 'b+_b_b_b': (-4+0j),\n",
       " '': (3+0j),\n",
       " 'a_a': (6+0j),\n",
       " 'a_b': 12j,\n",
       " 'b_b': (-6+0j),\n",
       " 'a_a_a_a': 1,\n",
       " 'a_a_a_b': 4j,\n",
       " 'a_a_b_b': (-6+0j),\n",
       " 'a_b_b_b': -4j,\n",
       " 'b_b_b_b': (1+0j),\n",
       " 'z+_z+_z+_z+': 1,\n",
       " 'z+_z+_z+_z': 4,\n",
       " 'z+_z+': (-6+0j),\n",
       " 'z+_z+_z_z': 6,\n",
       " 'z+_z': (-12+0j),\n",
       " 'z+_z_z_z': 4,\n",
       " 'z_z': (-6+0j),\n",
       " 'z_z_z_z': 1,\n",
       " 'a+_a+_z+_z+': -6,\n",
       " 'a+_a+_z+_z': -12,\n",
       " 'a+_a+_z_z': -6,\n",
       " 'a+_b+_z+_z+': 12j,\n",
       " 'a+_b+_z+_z': 24j,\n",
       " 'a+_b+_z_z': 12j,\n",
       " 'a+_a_z+_z+': -12,\n",
       " 'a+_a_z+_z': -24,\n",
       " 'a+_a_z_z': -12,\n",
       " 'a+_b_z+_z+': (-0-12j),\n",
       " 'a+_b_z+_z': (-0-24j),\n",
       " 'a+_b_z_z': (-0-12j),\n",
       " 'b+_b+_z+_z+': (6+0j),\n",
       " 'b+_b+_z+_z': (12+0j),\n",
       " 'b+_b+_z_z': (6+0j),\n",
       " 'a_b+_z+_z+': 12j,\n",
       " 'a_b+_z+_z': 24j,\n",
       " 'a_b+_z_z': 12j,\n",
       " 'b+_b_z+_z+': (-12+0j),\n",
       " 'b+_b_z+_z': (-24+0j),\n",
       " 'b+_b_z_z': (-12+0j),\n",
       " 'a_a_z+_z+': -6,\n",
       " 'a_a_z+_z': -12,\n",
       " 'a_a_z_z': -6,\n",
       " 'a_b_z+_z+': (-0-12j),\n",
       " 'a_b_z+_z': (-0-24j),\n",
       " 'a_b_z_z': (-0-12j),\n",
       " 'b_b_z+_z+': (6-0j),\n",
       " 'b_b_z+_z': (12-0j),\n",
       " 'b_b_z_z': (6-0j)}"
      ]
     },
     "execution_count": 34,
     "metadata": {},
     "output_type": "execute_result"
    }
   ],
   "source": [
    "new_c4.expr_dict"
   ]
  },
  {
   "cell_type": "code",
   "execution_count": 35,
   "metadata": {
    "colab": {
     "base_uri": "https://localhost:8080/"
    },
    "executionInfo": {
     "elapsed": 4,
     "status": "ok",
     "timestamp": 1755211289979,
     "user": {
      "displayName": "Ja Eun KIM",
      "userId": "07128633758563491625"
     },
     "user_tz": -120
    },
    "id": "-Shid9WN04Gj",
    "outputId": "b9d0065f-4c8b-44d2-d5a3-7d635d55c03b"
   },
   "outputs": [
    {
     "name": "stdout",
     "output_type": "stream",
     "text": [
      "a mode self-Kerr:  6\n",
      "b mode self-Kerr:  (6+0j)\n",
      "magnetron-cyclotron cross-Kerr:  (24+0j)\n",
      "z mode self-Kerr:  0\n",
      "z-a cross-Kerr:  0\n",
      "z-b cross-Kerr:  0\n"
     ]
    }
   ],
   "source": [
    "print_kerr(x4)"
   ]
  },
  {
   "cell_type": "code",
   "execution_count": 36,
   "metadata": {
    "colab": {
     "base_uri": "https://localhost:8080/"
    },
    "executionInfo": {
     "elapsed": 4,
     "status": "ok",
     "timestamp": 1755211290123,
     "user": {
      "displayName": "Ja Eun KIM",
      "userId": "07128633758563491625"
     },
     "user_tz": -120
    },
    "id": "6-3TJEp3xIVU",
    "outputId": "fa375c75-ae9f-4c64-d07d-55b026d3c604"
   },
   "outputs": [
    {
     "data": {
      "text/plain": [
       "{'a+_a+_z+_z+': 1,\n",
       " 'a+_a+_z+_z': 2,\n",
       " 'a+_a+': 1,\n",
       " 'a+_a+_z_z': 1,\n",
       " 'a+_b+_z+_z+': -2j,\n",
       " 'a+_b+_z+_z': -4j,\n",
       " 'a+_b+': -2j,\n",
       " 'a+_b+_z_z': -2j,\n",
       " 'a+_a_z+_z+': 2,\n",
       " 'a+_a_z+_z': 4,\n",
       " 'a+_a': 2,\n",
       " 'a+_a_z_z': 2,\n",
       " 'a+_b_z+_z+': 2j,\n",
       " 'a+_b_z+_z': 4j,\n",
       " 'a+_b': 2j,\n",
       " 'a+_b_z_z': 2j,\n",
       " 'b+_b+_z+_z+': (-1-0j),\n",
       " 'b+_b+_z+_z': (-2-0j),\n",
       " 'b+_b+': (-1-0j),\n",
       " 'b+_b+_z_z': (-1-0j),\n",
       " 'a_b+_z+_z+': -2j,\n",
       " 'a_b+_z+_z': -4j,\n",
       " 'a_b+': -2j,\n",
       " 'a_b+_z_z': -2j,\n",
       " 'b+_b_z+_z+': (2+0j),\n",
       " 'b+_b_z+_z': (4+0j),\n",
       " 'b+_b': (2+0j),\n",
       " 'b+_b_z_z': (2+0j),\n",
       " 'z+_z+': (2+0j),\n",
       " 'z+_z': (4+0j),\n",
       " '': (2+0j),\n",
       " 'z_z': (2+0j),\n",
       " 'a_a_z+_z+': 1,\n",
       " 'a_a_z+_z': 2,\n",
       " 'a_a': 1,\n",
       " 'a_a_z_z': 1,\n",
       " 'a_b_z+_z+': 2j,\n",
       " 'a_b_z+_z': 4j,\n",
       " 'a_b': 2j,\n",
       " 'a_b_z_z': 2j,\n",
       " 'b_b_z+_z+': (-1+0j),\n",
       " 'b_b_z+_z': (-2+0j),\n",
       " 'b_b': (-1+0j),\n",
       " 'b_b_z_z': (-1+0j)}"
      ]
     },
     "execution_count": 36,
     "metadata": {},
     "output_type": "execute_result"
    }
   ],
   "source": [
    "x2z2.expr_dict"
   ]
  },
  {
   "cell_type": "markdown",
   "metadata": {
    "id": "7XbBFCCA2KTR"
   },
   "source": [
    "## いろいろ 4th order terms"
   ]
  },
  {
   "cell_type": "code",
   "execution_count": 37,
   "metadata": {
    "colab": {
     "base_uri": "https://localhost:8080/"
    },
    "executionInfo": {
     "elapsed": 15,
     "status": "ok",
     "timestamp": 1755211292966,
     "user": {
      "displayName": "Ja Eun KIM",
      "userId": "07128633758563491625"
     },
     "user_tz": -120
    },
    "id": "TBmN__xY2fY-",
    "outputId": "fa8ea159-c6bc-4f50-d69c-e36cabdbe152"
   },
   "outputs": [
    {
     "name": "stdout",
     "output_type": "stream",
     "text": [
      "[C040 * yyyy] : \n",
      "{'a+_a+_a+_a+': (1+0j), 'a+_a+_a+_b+': (-0+4j), 'a+_a+_a+_a': (-4+0j), 'a+_a+_a+_b': (-0+4j), 'a+_a+_b+_b+': (-6-0j), 'a+_a+_a_b+': -12j, 'a+_a+_b+_b': (-12-0j), 'a+_a+': (-12-0j), 'a+_a+_a_a': (6+0j), 'a+_a+_a_b': -12j, 'a+_a+_b_b': (-6-0j), 'a+_b+_b+_b+': -4j, 'a+_a_b+_b+': (12+0j), 'a+_b+_b+_b': -12j, 'a+_b+': -24j, 'a+_a_a_b+': 12j, 'a+_a_b+_b': (24+0j), 'a+_b+_b_b': -12j, 'a+_a': (24+0j), 'a+_b': -24j, 'a+_a_a_a': (-4+0j), 'a+_a_a_b': 12j, 'a+_a_b_b': (12+0j), 'a+_b_b_b': -4j, 'b+_b+_b+_b+': 1, 'a_b+_b+_b+': 4j, 'b+_b+_b+_b': 4, 'b+_b+': (12+0j), 'a_a_b+_b+': (-6+0j), 'a_b+_b+_b': 12j, 'b+_b+_b_b': 6, 'a_b+': 24j, 'b+_b': (24+0j), 'a_a_a_b+': -4j, 'a_a_b+_b': (-12+0j), 'a_b+_b_b': 12j, 'b+_b_b_b': 4, '': (12+0j), 'a_a': (-12+0j), 'a_b': 24j, 'b_b': (12+0j), 'a_a_a_a': (1+0j), 'a_a_a_b': -4j, 'a_a_b_b': (-6+0j), 'a_b_b_b': 4j, 'b_b_b_b': 1}\n",
      "a mode self-Kerr:  (6+0j)\n",
      "b mode self-Kerr:  6\n",
      "magnetron-cyclotron cross-Kerr:  (24+0j)\n",
      "z mode self-Kerr:  0\n",
      "z-a cross-Kerr:  0\n",
      "z-b cross-Kerr:  0\n",
      "\n",
      "\n",
      "[C130 * xyyy] : \n",
      "{'a+_a+_a+_a+': (-0+1j), 'a+_a+_a+_b+': (-2-0j), 'a+_a+_a+_a': -2j, 'a+_a+_a+_b': (-4-0j), 'a+_a+_b+_b+': 0j, 'a+_a+_a_b+': 0j, 'a+_a+_b+_b': -6j, 'a+_a+': -6j, 'a+_a+_a_a': 0j, 'a+_a+_a_b': (6+0j), 'a+_a+_b_b': -6j, 'a+_b+_b+_b+': (-2+0j), 'a+_a_b+_b+': -6j, 'a+_b+_b+_b': 0j, 'a+_b+': 0j, 'a+_a_a_b+': (6+0j), 'a+_a_b+_b': 0j, 'a+_b+_b_b': (6+0j), 'a+_a': 0j, 'a+_b': (12+0j), 'a+_a_a_a': 2j, 'a+_a_a_b': 0j, 'a+_a_b_b': 6j, 'a+_b_b_b': (4+0j), 'b+_b+_b+_b+': -1j, 'a_b+_b+_b+': (4+0j), 'b+_b+_b+_b': -2j, 'b+_b+': -6j, 'a_a_b+_b+': 6j, 'a_b+_b+_b': (6+0j), 'b+_b+_b_b': 0j, 'a_b+': (12+0j), 'b+_b': 0j, 'a_a_a_b+': (-4+0j), 'a_a_b+_b': 6j, 'a_b+_b_b': 0j, 'b+_b_b_b': 2j, '': 0j, 'a_a': 6j, 'a_b': 0j, 'b_b': 6j, 'a_a_a_a': -1j, 'a_a_a_b': (-2+0j), 'a_a_b_b': 0j, 'a_b_b_b': (-2+0j), 'b_b_b_b': 1j}\n",
      "a mode self-Kerr:  0j\n",
      "b mode self-Kerr:  0j\n",
      "magnetron-cyclotron cross-Kerr:  0j\n",
      "z mode self-Kerr:  0\n",
      "z-a cross-Kerr:  0\n",
      "z-b cross-Kerr:  0\n",
      "\n",
      "\n",
      "[C220 * xxyy] : \n",
      "{'a+_a+_a+_a+': (-1-0j), 'a+_a+_a+_b+': 0j, 'a+_a+_a+_a': 0j, 'a+_a+_a+_b': -4j, 'a+_a+_b+_b+': (-2+0j), 'a+_a+_a_b+': -4j, 'a+_a+_b+_b': 0j, 'a+_a+': 0j, 'a+_a+_a_a': (2+0j), 'a+_a+_a_b': 0j, 'a+_a+_b_b': (6+0j), 'a+_b+_b+_b+': 0j, 'a+_a_b+_b+': 0j, 'a+_b+_b+_b': -4j, 'a+_b+': -8j, 'a+_a_a_b+': 0j, 'a+_a_b+_b': (8+0j), 'a+_b+_b_b': 0j, 'a+_a': (8+0j), 'a+_b': 0j, 'a+_a_a_a': 0j, 'a+_a_a_b': 4j, 'a+_a_b_b': 0j, 'a+_b_b_b': 4j, 'b+_b+_b+_b+': (-1-0j), 'a_b+_b+_b+': -4j, 'b+_b+_b+_b': 0j, 'b+_b+': 0j, 'a_a_b+_b+': (6+0j), 'a_b+_b+_b': 0j, 'b+_b+_b_b': (2+0j), 'a_b+': 0j, 'b+_b': (8+0j), 'a_a_a_b+': 4j, 'a_a_b+_b': 0j, 'a_b+_b_b': 4j, 'b+_b_b_b': 0j, '': (4+0j), 'a_a': 0j, 'a_b': 8j, 'b_b': 0j, 'a_a_a_a': (-1+0j), 'a_a_a_b': 0j, 'a_a_b_b': (-2+0j), 'a_b_b_b': 0j, 'b_b_b_b': (-1+0j)}\n",
      "a mode self-Kerr:  (2+0j)\n",
      "b mode self-Kerr:  (2+0j)\n",
      "magnetron-cyclotron cross-Kerr:  (8+0j)\n",
      "z mode self-Kerr:  0\n",
      "z-a cross-Kerr:  0\n",
      "z-b cross-Kerr:  0\n",
      "\n",
      "\n",
      "[C310 * xxxy] : \n",
      "{'a+_a+_a+_a+': -1j, 'a+_a+_a+_b+': (-2+0j), 'a+_a+_a+_a': -2j, 'a+_a+_a+_b': (4+0j), 'a+_a+_b+_b+': 0j, 'a+_a+_a_b+': 0j, 'a+_a+_b+_b': -6j, 'a+_a+': -6j, 'a+_a+_a_a': 0j, 'a+_a+_a_b': (6+0j), 'a+_a+_b_b': 6j, 'a+_b+_b+_b+': (-2+0j), 'a+_a_b+_b+': -6j, 'a+_b+_b+_b': 0j, 'a+_b+': 0j, 'a+_a_a_b+': (6+0j), 'a+_a_b+_b': 0j, 'a+_b+_b_b': (6+0j), 'a+_a': 0j, 'a+_b': (12+0j), 'a+_a_a_a': 2j, 'a+_a_a_b': 0j, 'a+_a_b_b': 6j, 'a+_b_b_b': (-4+0j), 'b+_b+_b+_b+': (-0+1j), 'a_b+_b+_b+': (-4+0j), 'b+_b+_b+_b': -2j, 'b+_b+': -6j, 'a_a_b+_b+': -6j, 'a_b+_b+_b': (6+0j), 'b+_b+_b_b': 0j, 'a_b+': (12+0j), 'b+_b': 0j, 'a_a_a_b+': (4+0j), 'a_a_b+_b': 6j, 'a_b+_b_b': 0j, 'b+_b_b_b': 2j, '': 0j, 'a_a': 6j, 'a_b': 0j, 'b_b': 6j, 'a_a_a_a': 1j, 'a_a_a_b': (-2+0j), 'a_a_b_b': 0j, 'a_b_b_b': (-2+0j), 'b_b_b_b': -1j}\n",
      "a mode self-Kerr:  0j\n",
      "b mode self-Kerr:  0j\n",
      "magnetron-cyclotron cross-Kerr:  0j\n",
      "z mode self-Kerr:  0\n",
      "z-a cross-Kerr:  0\n",
      "z-b cross-Kerr:  0\n",
      "\n",
      "\n",
      "[C400 * xxxx] : \n",
      "{'a+_a+_a+_a+': 1, 'a+_a+_a+_b+': -4j, 'a+_a+_a+_a': 4, 'a+_a+_a+_b': 4j, 'a+_a+_b+_b+': (-6-0j), 'a+_a+_a_b+': -12j, 'a+_a+_b+_b': (12+0j), 'a+_a+': (12+0j), 'a+_a+_a_a': 6, 'a+_a+_a_b': 12j, 'a+_a+_b_b': (-6+0j), 'a+_b+_b+_b+': (-0+4j), 'a+_a_b+_b+': (-12-0j), 'a+_b+_b+_b': -12j, 'a+_b+': -24j, 'a+_a_a_b+': -12j, 'a+_a_b+_b': (24+0j), 'a+_b+_b_b': 12j, 'a+_a': (24+0j), 'a+_b': 24j, 'a+_a_a_a': 4, 'a+_a_a_b': 12j, 'a+_a_b_b': (-12+0j), 'a+_b_b_b': -4j, 'b+_b+_b+_b+': (1+0j), 'a_b+_b+_b+': (-0+4j), 'b+_b+_b+_b': (-4+0j), 'b+_b+': (-12-0j), 'a_a_b+_b+': (-6-0j), 'a_b+_b+_b': -12j, 'b+_b+_b_b': (6+0j), 'a_b+': -24j, 'b+_b': (24+0j), 'a_a_a_b+': -4j, 'a_a_b+_b': (12+0j), 'a_b+_b_b': 12j, 'b+_b_b_b': (-4+0j), '': (12+0j), 'a_a': (12+0j), 'a_b': 24j, 'b_b': (-12+0j), 'a_a_a_a': 1, 'a_a_a_b': 4j, 'a_a_b_b': (-6+0j), 'a_b_b_b': -4j, 'b_b_b_b': (1+0j)}\n",
      "a mode self-Kerr:  6\n",
      "b mode self-Kerr:  (6+0j)\n",
      "magnetron-cyclotron cross-Kerr:  (24+0j)\n",
      "z mode self-Kerr:  0\n",
      "z-a cross-Kerr:  0\n",
      "z-b cross-Kerr:  0\n",
      "\n",
      "\n"
     ]
    }
   ],
   "source": [
    "for x_power in range(0,5,1):\n",
    "  y_power = 4-x_power\n",
    "\n",
    "  # initialize an expression with scalar 1\n",
    "  expr = Expression()\n",
    "  expr.expr_dict = {\"\": 1}\n",
    "\n",
    "  expr_string = \"\"\n",
    "\n",
    "  for _ in range(x_power):\n",
    "    expr = expr.multiply(x)\n",
    "    expr_string += \"x\"\n",
    "  for _ in range(y_power):\n",
    "    expr = expr.multiply(y)\n",
    "    expr_string += \"y\"\n",
    "\n",
    "  print(f\"[C{x_power}{y_power}0 * {expr_string}] : \")\n",
    "  print(expr.expr_dict)\n",
    "  print_kerr(expr)\n",
    "  print(\"\\n\")"
   ]
  },
  {
   "cell_type": "markdown",
   "metadata": {
    "id": "vuEHjJzc6kBi"
   },
   "source": [
    "## いろいろ 6th order terms\n"
   ]
  },
  {
   "cell_type": "code",
   "execution_count": 38,
   "metadata": {
    "colab": {
     "base_uri": "https://localhost:8080/"
    },
    "executionInfo": {
     "elapsed": 16,
     "status": "ok",
     "timestamp": 1755211293791,
     "user": {
      "displayName": "Ja Eun KIM",
      "userId": "07128633758563491625"
     },
     "user_tz": -120
    },
    "id": "gcANI4E160Em",
    "outputId": "fd36c603-70d8-4c4f-8d42-25b7645fc9cb"
   },
   "outputs": [
    {
     "name": "stdout",
     "output_type": "stream",
     "text": [
      "[C042 * yyyyzz] : \n",
      "a mode self-Kerr:  (6+0j)\n",
      "b mode self-Kerr:  6\n",
      "magnetron-cyclotron cross-Kerr:  (24+0j)\n",
      "z mode self-Kerr:  0\n",
      "z-a cross-Kerr:  (24+0j)\n",
      "z-b cross-Kerr:  (24+0j)\n",
      "\n",
      "\n",
      "[C222 * xxyyzz] : \n",
      "a mode self-Kerr:  (2+0j)\n",
      "b mode self-Kerr:  (2+0j)\n",
      "magnetron-cyclotron cross-Kerr:  (8+0j)\n",
      "z mode self-Kerr:  0\n",
      "z-a cross-Kerr:  (8+0j)\n",
      "z-b cross-Kerr:  (8+0j)\n",
      "\n",
      "\n",
      "[C402 * xxxxzz] : \n",
      "a mode self-Kerr:  6\n",
      "b mode self-Kerr:  (6+0j)\n",
      "magnetron-cyclotron cross-Kerr:  (24+0j)\n",
      "z mode self-Kerr:  0\n",
      "z-a cross-Kerr:  (24+0j)\n",
      "z-b cross-Kerr:  (24+0j)\n",
      "\n",
      "\n"
     ]
    }
   ],
   "source": [
    "for x_power in range(0,5,2):\n",
    "  y_power = 4-x_power\n",
    "\n",
    "  # initialize an expression with scalar 1\n",
    "  expr = Expression()\n",
    "  expr.expr_dict = {\"\": 1}\n",
    "\n",
    "  expr_string = \"\"\n",
    "\n",
    "  for _ in range(x_power):\n",
    "    expr = expr.multiply(x)\n",
    "    expr_string += \"x\"\n",
    "  for _ in range(y_power):\n",
    "    expr = expr.multiply(y)\n",
    "    expr_string += \"y\"\n",
    "\n",
    "  expr = expr.multiply(z2)\n",
    "  expr_string += \"zz\"\n",
    "\n",
    "  print(f\"[C{x_power}{y_power}2 * {expr_string}] : \")\n",
    "  # print(expr.expr_dict)\n",
    "  print_kerr(expr)\n",
    "  print(\"\\n\")"
   ]
  },
  {
   "cell_type": "code",
   "execution_count": 39,
   "metadata": {
    "colab": {
     "base_uri": "https://localhost:8080/"
    },
    "executionInfo": {
     "elapsed": 20,
     "status": "ok",
     "timestamp": 1755211295032,
     "user": {
      "displayName": "Ja Eun KIM",
      "userId": "07128633758563491625"
     },
     "user_tz": -120
    },
    "id": "6SYxMD3_4oQi",
    "outputId": "a0614213-6722-49a8-d025-ad6031fe6f78"
   },
   "outputs": [
    {
     "data": {
      "text/plain": [
       "{'a+_a+_a+_a+_a+_z+_z+': 1,\n",
       " 'a+_a+_a+_a+_b+_z+_z+': -5j,\n",
       " 'a+_a+_a+_a+_a_z+_z+': 5,\n",
       " 'a+_a+_a+_a+_b_z+_z+': 5j,\n",
       " 'a+_a+_a+_a+_a+_z+_z': 2,\n",
       " 'a+_a+_a+_a+_b+_z+_z': -10j,\n",
       " 'a+_a+_a+_a+_a_z+_z': 10,\n",
       " 'a+_a+_a+_a+_b_z+_z': 10j,\n",
       " 'a+_a+_a+_a+_a+': 1,\n",
       " 'a+_a+_a+_a+_b+': -5j,\n",
       " 'a+_a+_a+_a+_a': 5,\n",
       " 'a+_a+_a+_a+_b': 5j,\n",
       " 'a+_a+_a+_a+_a+_z_z': 1,\n",
       " 'a+_a+_a+_a+_b+_z_z': -5j,\n",
       " 'a+_a+_a+_a+_a_z_z': 5,\n",
       " 'a+_a+_a+_a+_b_z_z': 5j,\n",
       " 'a+_a+_a+_b+_b+_z+_z+': (-10-0j),\n",
       " 'a+_a+_a+_a_b+_z+_z+': -20j,\n",
       " 'a+_a+_a+_b+_b_z+_z+': (20+0j),\n",
       " 'a+_a+_a+_b+_b+_z+_z': (-20-0j),\n",
       " 'a+_a+_a+_a_b+_z+_z': -40j,\n",
       " 'a+_a+_a+_b+_b_z+_z': (40+0j),\n",
       " 'a+_a+_a+_b+_b+': (-10-0j),\n",
       " 'a+_a+_a+_a_b+': -20j,\n",
       " 'a+_a+_a+_b+_b': (20+0j),\n",
       " 'a+_a+_a+_b+_b+_z_z': (-10-0j),\n",
       " 'a+_a+_a+_a_b+_z_z': -20j,\n",
       " 'a+_a+_a+_b+_b_z_z': (20+0j),\n",
       " 'a+_a+_a+_z+_z+': (20+0j),\n",
       " 'a+_a+_a+_a_a_z+_z+': 10,\n",
       " 'a+_a+_a+_a_b_z+_z+': 20j,\n",
       " 'a+_a+_a+_z+_z': (40+0j),\n",
       " 'a+_a+_a+_a_a_z+_z': 20,\n",
       " 'a+_a+_a+_a_b_z+_z': 40j,\n",
       " 'a+_a+_a+': (20+0j),\n",
       " 'a+_a+_a+_a_a': 10,\n",
       " 'a+_a+_a+_a_b': 20j,\n",
       " 'a+_a+_a+_z_z': (20+0j),\n",
       " 'a+_a+_a+_a_a_z_z': 10,\n",
       " 'a+_a+_a+_a_b_z_z': 20j,\n",
       " 'a+_a+_a+_b_b_z+_z+': (-10+0j),\n",
       " 'a+_a+_a+_b_b_z+_z': (-20+0j),\n",
       " 'a+_a+_a+_b_b': (-10+0j),\n",
       " 'a+_a+_a+_b_b_z_z': (-10+0j),\n",
       " 'a+_a+_b+_b+_b+_z+_z+': (-0+10j),\n",
       " 'a+_a+_a_b+_b+_z+_z+': (-30-0j),\n",
       " 'a+_a+_b+_b+_b_z+_z+': -30j,\n",
       " 'a+_a+_b+_b+_b+_z+_z': (-0+20j),\n",
       " 'a+_a+_a_b+_b+_z+_z': (-60-0j),\n",
       " 'a+_a+_b+_b+_b_z+_z': -60j,\n",
       " 'a+_a+_b+_b+_b+': (-0+10j),\n",
       " 'a+_a+_a_b+_b+': (-30-0j),\n",
       " 'a+_a+_b+_b+_b': -30j,\n",
       " 'a+_a+_b+_b+_b+_z_z': (-0+10j),\n",
       " 'a+_a+_a_b+_b+_z_z': (-30-0j),\n",
       " 'a+_a+_b+_b+_b_z_z': -30j,\n",
       " 'a+_a+_b+_z+_z+': -60j,\n",
       " 'a+_a+_a_a_b+_z+_z+': -30j,\n",
       " 'a+_a+_a_b+_b_z+_z+': (60+0j),\n",
       " 'a+_a+_b+_z+_z': -120j,\n",
       " 'a+_a+_a_a_b+_z+_z': -60j,\n",
       " 'a+_a+_a_b+_b_z+_z': (120+0j),\n",
       " 'a+_a+_b+': -60j,\n",
       " 'a+_a+_a_a_b+': -30j,\n",
       " 'a+_a+_a_b+_b': (60+0j),\n",
       " 'a+_a+_b+_z_z': -60j,\n",
       " 'a+_a+_a_a_b+_z_z': -30j,\n",
       " 'a+_a+_a_b+_b_z_z': (60+0j),\n",
       " 'a+_a+_b+_b_b_z+_z+': 30j,\n",
       " 'a+_a+_b+_b_b_z+_z': 60j,\n",
       " 'a+_a+_b+_b_b': 30j,\n",
       " 'a+_a+_b+_b_b_z_z': 30j,\n",
       " 'a+_a+_a_z+_z+': (60+0j),\n",
       " 'a+_a+_b_z+_z+': 60j,\n",
       " 'a+_a+_a_z+_z': (120+0j),\n",
       " 'a+_a+_b_z+_z': 120j,\n",
       " 'a+_a+_a': (60+0j),\n",
       " 'a+_a+_b': 60j,\n",
       " 'a+_a+_a_z_z': (60+0j),\n",
       " 'a+_a+_b_z_z': 60j,\n",
       " 'a+_a+_a_a_a_z+_z+': 10,\n",
       " 'a+_a+_a_a_b_z+_z+': 30j,\n",
       " 'a+_a+_a_a_a_z+_z': 20,\n",
       " 'a+_a+_a_a_b_z+_z': 60j,\n",
       " 'a+_a+_a_a_a': 10,\n",
       " 'a+_a+_a_a_b': 30j,\n",
       " 'a+_a+_a_a_a_z_z': 10,\n",
       " 'a+_a+_a_a_b_z_z': 30j,\n",
       " 'a+_a+_a_b_b_z+_z+': (-30+0j),\n",
       " 'a+_a+_a_b_b_z+_z': (-60+0j),\n",
       " 'a+_a+_a_b_b': (-30+0j),\n",
       " 'a+_a+_a_b_b_z_z': (-30+0j),\n",
       " 'a+_a+_b_b_b_z+_z+': -10j,\n",
       " 'a+_a+_b_b_b_z+_z': -20j,\n",
       " 'a+_a+_b_b_b': -10j,\n",
       " 'a+_a+_b_b_b_z_z': -10j,\n",
       " 'a+_b+_b+_b+_b+_z+_z+': (5+0j),\n",
       " 'a+_a_b+_b+_b+_z+_z+': (-0+20j),\n",
       " 'a+_b+_b+_b+_b_z+_z+': (-20+0j),\n",
       " 'a+_b+_b+_b+_b+_z+_z': (10+0j),\n",
       " 'a+_a_b+_b+_b+_z+_z': (-0+40j),\n",
       " 'a+_b+_b+_b+_b_z+_z': (-40+0j),\n",
       " 'a+_b+_b+_b+_b+': (5+0j),\n",
       " 'a+_a_b+_b+_b+': (-0+20j),\n",
       " 'a+_b+_b+_b+_b': (-20+0j),\n",
       " 'a+_b+_b+_b+_b+_z_z': (5+0j),\n",
       " 'a+_a_b+_b+_b+_z_z': (-0+20j),\n",
       " 'a+_b+_b+_b+_b_z_z': (-20+0j),\n",
       " 'a+_b+_b+_z+_z+': (-60-0j),\n",
       " 'a+_a_a_b+_b+_z+_z+': (-30-0j),\n",
       " 'a+_a_b+_b+_b_z+_z+': -60j,\n",
       " 'a+_b+_b+_z+_z': (-120-0j),\n",
       " 'a+_a_a_b+_b+_z+_z': (-60-0j),\n",
       " 'a+_a_b+_b+_b_z+_z': -120j,\n",
       " 'a+_b+_b+': (-60-0j),\n",
       " 'a+_a_a_b+_b+': (-30-0j),\n",
       " 'a+_a_b+_b+_b': -60j,\n",
       " 'a+_b+_b+_z_z': (-60-0j),\n",
       " 'a+_a_a_b+_b+_z_z': (-30-0j),\n",
       " 'a+_a_b+_b+_b_z_z': -60j,\n",
       " 'a+_b+_b+_b_b_z+_z+': (30+0j),\n",
       " 'a+_b+_b+_b_b_z+_z': (60+0j),\n",
       " 'a+_b+_b+_b_b': (30+0j),\n",
       " 'a+_b+_b+_b_b_z_z': (30+0j),\n",
       " 'a+_a_b+_z+_z+': -120j,\n",
       " 'a+_b+_b_z+_z+': (120+0j),\n",
       " 'a+_a_b+_z+_z': -240j,\n",
       " 'a+_b+_b_z+_z': (240+0j),\n",
       " 'a+_a_b+': -120j,\n",
       " 'a+_b+_b': (120+0j),\n",
       " 'a+_a_b+_z_z': -120j,\n",
       " 'a+_b+_b_z_z': (120+0j),\n",
       " 'a+_a_a_a_b+_z+_z+': -20j,\n",
       " 'a+_a_a_b+_b_z+_z+': (60+0j),\n",
       " 'a+_a_a_a_b+_z+_z': -40j,\n",
       " 'a+_a_a_b+_b_z+_z': (120+0j),\n",
       " 'a+_a_a_a_b+': -20j,\n",
       " 'a+_a_a_b+_b': (60+0j),\n",
       " 'a+_a_a_a_b+_z_z': -20j,\n",
       " 'a+_a_a_b+_b_z_z': (60+0j),\n",
       " 'a+_a_b+_b_b_z+_z+': 60j,\n",
       " 'a+_a_b+_b_b_z+_z': 120j,\n",
       " 'a+_a_b+_b_b': 60j,\n",
       " 'a+_a_b+_b_b_z_z': 60j,\n",
       " 'a+_b+_b_b_b_z+_z+': (-20+0j),\n",
       " 'a+_b+_b_b_b_z+_z': (-40+0j),\n",
       " 'a+_b+_b_b_b': (-20+0j),\n",
       " 'a+_b+_b_b_b_z_z': (-20+0j),\n",
       " 'a+_z+_z+': (60+0j),\n",
       " 'a+_a_a_z+_z+': (60+0j),\n",
       " 'a+_a_b_z+_z+': 120j,\n",
       " 'a+_z+_z': (120+0j),\n",
       " 'a+_a_a_z+_z': (120+0j),\n",
       " 'a+_a_b_z+_z': 240j,\n",
       " 'a+': (60+0j),\n",
       " 'a+_a_a': (60+0j),\n",
       " 'a+_a_b': 120j,\n",
       " 'a+_z_z': (60+0j),\n",
       " 'a+_a_a_z_z': (60+0j),\n",
       " 'a+_a_b_z_z': 120j,\n",
       " 'a+_b_b_z+_z+': (-60+0j),\n",
       " 'a+_b_b_z+_z': (-120+0j),\n",
       " 'a+_b_b': (-60+0j),\n",
       " 'a+_b_b_z_z': (-60+0j),\n",
       " 'a+_a_a_a_a_z+_z+': 5,\n",
       " 'a+_a_a_a_b_z+_z+': 20j,\n",
       " 'a+_a_a_a_a_z+_z': 10,\n",
       " 'a+_a_a_a_b_z+_z': 40j,\n",
       " 'a+_a_a_a_a': 5,\n",
       " 'a+_a_a_a_b': 20j,\n",
       " 'a+_a_a_a_a_z_z': 5,\n",
       " 'a+_a_a_a_b_z_z': 20j,\n",
       " 'a+_a_a_b_b_z+_z+': (-30+0j),\n",
       " 'a+_a_a_b_b_z+_z': (-60+0j),\n",
       " 'a+_a_a_b_b': (-30+0j),\n",
       " 'a+_a_a_b_b_z_z': (-30+0j),\n",
       " 'a+_a_b_b_b_z+_z+': -20j,\n",
       " 'a+_a_b_b_b_z+_z': -40j,\n",
       " 'a+_a_b_b_b': -20j,\n",
       " 'a+_a_b_b_b_z_z': -20j,\n",
       " 'a+_b_b_b_b_z+_z+': (5+0j),\n",
       " 'a+_b_b_b_b_z+_z': (10+0j),\n",
       " 'a+_b_b_b_b': (5+0j),\n",
       " 'a+_b_b_b_b_z_z': (5+0j),\n",
       " 'b+_b+_b+_b+_b+_z+_z+': -1j,\n",
       " 'a_b+_b+_b+_b+_z+_z+': (5+0j),\n",
       " 'b+_b+_b+_b+_b_z+_z+': 5j,\n",
       " 'b+_b+_b+_b+_b+_z+_z': -2j,\n",
       " 'a_b+_b+_b+_b+_z+_z': (10+0j),\n",
       " 'b+_b+_b+_b+_b_z+_z': 10j,\n",
       " 'b+_b+_b+_b+_b+': -1j,\n",
       " 'a_b+_b+_b+_b+': (5+0j),\n",
       " 'b+_b+_b+_b+_b': 5j,\n",
       " 'b+_b+_b+_b+_b+_z_z': -1j,\n",
       " 'a_b+_b+_b+_b+_z_z': (5+0j),\n",
       " 'b+_b+_b+_b+_b_z_z': 5j,\n",
       " 'b+_b+_b+_z+_z+': 20j,\n",
       " 'a_a_b+_b+_b+_z+_z+': (-0+10j),\n",
       " 'a_b+_b+_b+_b_z+_z+': (-20+0j),\n",
       " 'b+_b+_b+_z+_z': 40j,\n",
       " 'a_a_b+_b+_b+_z+_z': (-0+20j),\n",
       " 'a_b+_b+_b+_b_z+_z': (-40+0j),\n",
       " 'b+_b+_b+': 20j,\n",
       " 'a_a_b+_b+_b+': (-0+10j),\n",
       " 'a_b+_b+_b+_b': (-20+0j),\n",
       " 'b+_b+_b+_z_z': 20j,\n",
       " 'a_a_b+_b+_b+_z_z': (-0+10j),\n",
       " 'a_b+_b+_b+_b_z_z': (-20+0j),\n",
       " 'b+_b+_b+_b_b_z+_z+': -10j,\n",
       " 'b+_b+_b+_b_b_z+_z': -20j,\n",
       " 'b+_b+_b+_b_b': -10j,\n",
       " 'b+_b+_b+_b_b_z_z': -10j,\n",
       " 'a_b+_b+_z+_z+': (-60-0j),\n",
       " 'b+_b+_b_z+_z+': -60j,\n",
       " 'a_b+_b+_z+_z': (-120-0j),\n",
       " 'b+_b+_b_z+_z': -120j,\n",
       " 'a_b+_b+': (-60-0j),\n",
       " 'b+_b+_b': -60j,\n",
       " 'a_b+_b+_z_z': (-60-0j),\n",
       " 'b+_b+_b_z_z': -60j,\n",
       " 'a_a_a_b+_b+_z+_z+': (-10-0j),\n",
       " 'a_a_b+_b+_b_z+_z+': -30j,\n",
       " 'a_a_a_b+_b+_z+_z': (-20-0j),\n",
       " 'a_a_b+_b+_b_z+_z': -60j,\n",
       " 'a_a_a_b+_b+': (-10-0j),\n",
       " 'a_a_b+_b+_b': -30j,\n",
       " 'a_a_a_b+_b+_z_z': (-10-0j),\n",
       " 'a_a_b+_b+_b_z_z': -30j,\n",
       " 'a_b+_b+_b_b_z+_z+': (30+0j),\n",
       " 'a_b+_b+_b_b_z+_z': (60+0j),\n",
       " 'a_b+_b+_b_b': (30+0j),\n",
       " 'a_b+_b+_b_b_z_z': (30+0j),\n",
       " 'b+_b+_b_b_b_z+_z+': 10j,\n",
       " 'b+_b+_b_b_b_z+_z': 20j,\n",
       " 'b+_b+_b_b_b': 10j,\n",
       " 'b+_b+_b_b_b_z_z': 10j,\n",
       " 'b+_z+_z+': -60j,\n",
       " 'a_a_b+_z+_z+': -60j,\n",
       " 'a_b+_b_z+_z+': (120+0j),\n",
       " 'b+_z+_z': -120j,\n",
       " 'a_a_b+_z+_z': -120j,\n",
       " 'a_b+_b_z+_z': (240+0j),\n",
       " 'b+': -60j,\n",
       " 'a_a_b+': -60j,\n",
       " 'a_b+_b': (120+0j),\n",
       " 'b+_z_z': -60j,\n",
       " 'a_a_b+_z_z': -60j,\n",
       " 'a_b+_b_z_z': (120+0j),\n",
       " 'b+_b_b_z+_z+': 60j,\n",
       " 'b+_b_b_z+_z': 120j,\n",
       " 'b+_b_b': 60j,\n",
       " 'b+_b_b_z_z': 60j,\n",
       " 'a_a_a_a_b+_z+_z+': -5j,\n",
       " 'a_a_a_b+_b_z+_z+': (20+0j),\n",
       " 'a_a_a_a_b+_z+_z': -10j,\n",
       " 'a_a_a_b+_b_z+_z': (40+0j),\n",
       " 'a_a_a_a_b+': -5j,\n",
       " 'a_a_a_b+_b': (20+0j),\n",
       " 'a_a_a_a_b+_z_z': -5j,\n",
       " 'a_a_a_b+_b_z_z': (20+0j),\n",
       " 'a_a_b+_b_b_z+_z+': 30j,\n",
       " 'a_a_b+_b_b_z+_z': 60j,\n",
       " 'a_a_b+_b_b': 30j,\n",
       " 'a_a_b+_b_b_z_z': 30j,\n",
       " 'a_b+_b_b_b_z+_z+': (-20+0j),\n",
       " 'a_b+_b_b_b_z+_z': (-40+0j),\n",
       " 'a_b+_b_b_b': (-20+0j),\n",
       " 'a_b+_b_b_b_z_z': (-20+0j),\n",
       " 'b+_b_b_b_b_z+_z+': -5j,\n",
       " 'b+_b_b_b_b_z+_z': -10j,\n",
       " 'b+_b_b_b_b': -5j,\n",
       " 'b+_b_b_b_b_z_z': -5j,\n",
       " 'a_z+_z+': (60+0j),\n",
       " 'b_z+_z+': 60j,\n",
       " 'a_z+_z': (120+0j),\n",
       " 'b_z+_z': 120j,\n",
       " 'a': (60+0j),\n",
       " 'b': 60j,\n",
       " 'a_z_z': (60+0j),\n",
       " 'b_z_z': 60j,\n",
       " 'a_a_a_z+_z+': (20+0j),\n",
       " 'a_a_b_z+_z+': 60j,\n",
       " 'a_a_a_z+_z': (40+0j),\n",
       " 'a_a_b_z+_z': 120j,\n",
       " 'a_a_a': (20+0j),\n",
       " 'a_a_b': 60j,\n",
       " 'a_a_a_z_z': (20+0j),\n",
       " 'a_a_b_z_z': 60j,\n",
       " 'a_b_b_z+_z+': (-60+0j),\n",
       " 'a_b_b_z+_z': (-120+0j),\n",
       " 'a_b_b': (-60+0j),\n",
       " 'a_b_b_z_z': (-60+0j),\n",
       " 'b_b_b_z+_z+': -20j,\n",
       " 'b_b_b_z+_z': -40j,\n",
       " 'b_b_b': -20j,\n",
       " 'b_b_b_z_z': -20j,\n",
       " 'a_a_a_a_a_z+_z+': 1,\n",
       " 'a_a_a_a_b_z+_z+': 5j,\n",
       " 'a_a_a_a_a_z+_z': 2,\n",
       " 'a_a_a_a_b_z+_z': 10j,\n",
       " 'a_a_a_a_a': 1,\n",
       " 'a_a_a_a_b': 5j,\n",
       " 'a_a_a_a_a_z_z': 1,\n",
       " 'a_a_a_a_b_z_z': 5j,\n",
       " 'a_a_a_b_b_z+_z+': (-10+0j),\n",
       " 'a_a_a_b_b_z+_z': (-20+0j),\n",
       " 'a_a_a_b_b': (-10+0j),\n",
       " 'a_a_a_b_b_z_z': (-10+0j),\n",
       " 'a_a_b_b_b_z+_z+': -10j,\n",
       " 'a_a_b_b_b_z+_z': -20j,\n",
       " 'a_a_b_b_b': -10j,\n",
       " 'a_a_b_b_b_z_z': -10j,\n",
       " 'a_b_b_b_b_z+_z+': (5+0j),\n",
       " 'a_b_b_b_b_z+_z': (10+0j),\n",
       " 'a_b_b_b_b': (5+0j),\n",
       " 'a_b_b_b_b_z_z': (5+0j),\n",
       " 'b_b_b_b_b_z+_z+': 1j,\n",
       " 'b_b_b_b_b_z+_z': 2j,\n",
       " 'b_b_b_b_b': 1j,\n",
       " 'b_b_b_b_b_z_z': 1j}"
      ]
     },
     "execution_count": 39,
     "metadata": {},
     "output_type": "execute_result"
    }
   ],
   "source": [
    "expr.multiply(x).expr_dict"
   ]
  },
  {
   "cell_type": "markdown",
   "metadata": {
    "id": "xAGedy1h9T30"
   },
   "source": [
    "## いろいろ いろいろ orders"
   ]
  },
  {
   "cell_type": "code",
   "execution_count": 40,
   "metadata": {
    "id": "eAePqN6H_KLs"
   },
   "outputs": [],
   "source": [
    "import numpy as np\n",
    "import pandas as pd\n",
    "\n",
    "# Create an empty list to store the data for the DataFrame\n",
    "kerr_data = []\n",
    "\n",
    "# Define the keys for the Kerr terms\n",
    "kerr_keys = {\n",
    "    \"self a\": \"a+_a+_a_a\",\n",
    "    \"self b\": \"b+_b+_b_b\",\n",
    "    \"self z\": \"z+_z+_z_z\",\n",
    "    \"cross ab\": \"a+_a_b+_b\",\n",
    "    \"cross az\": \"a+_a_z+_z\",\n",
    "    \"cross bz\": \"b+_b_z+_z\",\n",
    "}\n",
    "\n",
    "for total_order in (4, 6):\n",
    "  for x_power in range(total_order, -1, -2):\n",
    "    yz_power = total_order - x_power\n",
    "    for y_power in range(yz_power, -1, -2):\n",
    "      z_power = yz_power-y_power\n",
    "\n",
    "      # initialize an expression with scalar 1\n",
    "      expr = Expression()\n",
    "      expr.expr_dict = {\"\": 1}\n",
    "\n",
    "      # compute the expression\n",
    "      for _ in range(x_power):\n",
    "        expr = expr.multiply(x)\n",
    "\n",
    "      for _ in range(y_power):\n",
    "        expr = expr.multiply(y)\n",
    "\n",
    "      for _ in range(z_power):\n",
    "        expr = expr.multiply(z)\n",
    "\n",
    "      # extract the Kerr terms and append to the dataframe\n",
    "      row = {\"C_ijk\": f\"C{x_power}{y_power}{z_power}\"}\n",
    "\n",
    "      for kerr_name, key in kerr_keys.items():\n",
    "          # Get the coefficient, default to 0 if the key is not in the dictionary\n",
    "          row[kerr_name] = np.real(expr.expr_dict.get(key, 0))\n",
    "          assert(np.imag(expr.expr_dict.get(key, 0)) == 0)\n",
    "\n",
    "      # Append the row to the list\n",
    "      kerr_data.append(row)"
   ]
  },
  {
   "cell_type": "code",
   "execution_count": 41,
   "metadata": {
    "colab": {
     "base_uri": "https://localhost:8080/",
     "height": 545
    },
    "executionInfo": {
     "elapsed": 75,
     "status": "ok",
     "timestamp": 1754058974378,
     "user": {
      "displayName": "Ja Eun KIM",
      "userId": "07128633758563491625"
     },
     "user_tz": -540
    },
    "id": "-WQnZ2KMCZES",
    "outputId": "15f60c86-68e5-4e6c-aa32-6dddf21e5cff"
   },
   "outputs": [
    {
     "data": {
      "text/html": [
       "<div>\n",
       "<style scoped>\n",
       "    .dataframe tbody tr th:only-of-type {\n",
       "        vertical-align: middle;\n",
       "    }\n",
       "\n",
       "    .dataframe tbody tr th {\n",
       "        vertical-align: top;\n",
       "    }\n",
       "\n",
       "    .dataframe thead th {\n",
       "        text-align: right;\n",
       "    }\n",
       "</style>\n",
       "<table border=\"1\" class=\"dataframe\">\n",
       "  <thead>\n",
       "    <tr style=\"text-align: right;\">\n",
       "      <th></th>\n",
       "      <th>C_ijk</th>\n",
       "      <th>self a</th>\n",
       "      <th>self b</th>\n",
       "      <th>self z</th>\n",
       "      <th>cross ab</th>\n",
       "      <th>cross az</th>\n",
       "      <th>cross bz</th>\n",
       "    </tr>\n",
       "  </thead>\n",
       "  <tbody>\n",
       "    <tr>\n",
       "      <th>0</th>\n",
       "      <td>C400</td>\n",
       "      <td>6.0</td>\n",
       "      <td>6.0</td>\n",
       "      <td>0.0</td>\n",
       "      <td>24.0</td>\n",
       "      <td>0.0</td>\n",
       "      <td>0.0</td>\n",
       "    </tr>\n",
       "    <tr>\n",
       "      <th>1</th>\n",
       "      <td>C220</td>\n",
       "      <td>2.0</td>\n",
       "      <td>2.0</td>\n",
       "      <td>0.0</td>\n",
       "      <td>8.0</td>\n",
       "      <td>0.0</td>\n",
       "      <td>0.0</td>\n",
       "    </tr>\n",
       "    <tr>\n",
       "      <th>2</th>\n",
       "      <td>C202</td>\n",
       "      <td>0.0</td>\n",
       "      <td>0.0</td>\n",
       "      <td>0.0</td>\n",
       "      <td>0.0</td>\n",
       "      <td>4.0</td>\n",
       "      <td>4.0</td>\n",
       "    </tr>\n",
       "    <tr>\n",
       "      <th>3</th>\n",
       "      <td>C040</td>\n",
       "      <td>6.0</td>\n",
       "      <td>6.0</td>\n",
       "      <td>0.0</td>\n",
       "      <td>24.0</td>\n",
       "      <td>0.0</td>\n",
       "      <td>0.0</td>\n",
       "    </tr>\n",
       "    <tr>\n",
       "      <th>4</th>\n",
       "      <td>C022</td>\n",
       "      <td>0.0</td>\n",
       "      <td>0.0</td>\n",
       "      <td>0.0</td>\n",
       "      <td>0.0</td>\n",
       "      <td>4.0</td>\n",
       "      <td>4.0</td>\n",
       "    </tr>\n",
       "    <tr>\n",
       "      <th>5</th>\n",
       "      <td>C004</td>\n",
       "      <td>0.0</td>\n",
       "      <td>0.0</td>\n",
       "      <td>6.0</td>\n",
       "      <td>0.0</td>\n",
       "      <td>0.0</td>\n",
       "      <td>0.0</td>\n",
       "    </tr>\n",
       "    <tr>\n",
       "      <th>6</th>\n",
       "      <td>C600</td>\n",
       "      <td>180.0</td>\n",
       "      <td>180.0</td>\n",
       "      <td>0.0</td>\n",
       "      <td>720.0</td>\n",
       "      <td>0.0</td>\n",
       "      <td>0.0</td>\n",
       "    </tr>\n",
       "    <tr>\n",
       "      <th>7</th>\n",
       "      <td>C420</td>\n",
       "      <td>36.0</td>\n",
       "      <td>36.0</td>\n",
       "      <td>0.0</td>\n",
       "      <td>144.0</td>\n",
       "      <td>0.0</td>\n",
       "      <td>0.0</td>\n",
       "    </tr>\n",
       "    <tr>\n",
       "      <th>8</th>\n",
       "      <td>C402</td>\n",
       "      <td>6.0</td>\n",
       "      <td>6.0</td>\n",
       "      <td>0.0</td>\n",
       "      <td>24.0</td>\n",
       "      <td>48.0</td>\n",
       "      <td>48.0</td>\n",
       "    </tr>\n",
       "    <tr>\n",
       "      <th>9</th>\n",
       "      <td>C240</td>\n",
       "      <td>36.0</td>\n",
       "      <td>36.0</td>\n",
       "      <td>0.0</td>\n",
       "      <td>144.0</td>\n",
       "      <td>0.0</td>\n",
       "      <td>0.0</td>\n",
       "    </tr>\n",
       "    <tr>\n",
       "      <th>10</th>\n",
       "      <td>C222</td>\n",
       "      <td>2.0</td>\n",
       "      <td>2.0</td>\n",
       "      <td>0.0</td>\n",
       "      <td>8.0</td>\n",
       "      <td>16.0</td>\n",
       "      <td>16.0</td>\n",
       "    </tr>\n",
       "    <tr>\n",
       "      <th>11</th>\n",
       "      <td>C204</td>\n",
       "      <td>0.0</td>\n",
       "      <td>0.0</td>\n",
       "      <td>12.0</td>\n",
       "      <td>0.0</td>\n",
       "      <td>24.0</td>\n",
       "      <td>24.0</td>\n",
       "    </tr>\n",
       "    <tr>\n",
       "      <th>12</th>\n",
       "      <td>C060</td>\n",
       "      <td>180.0</td>\n",
       "      <td>180.0</td>\n",
       "      <td>0.0</td>\n",
       "      <td>720.0</td>\n",
       "      <td>0.0</td>\n",
       "      <td>0.0</td>\n",
       "    </tr>\n",
       "    <tr>\n",
       "      <th>13</th>\n",
       "      <td>C042</td>\n",
       "      <td>6.0</td>\n",
       "      <td>6.0</td>\n",
       "      <td>0.0</td>\n",
       "      <td>24.0</td>\n",
       "      <td>48.0</td>\n",
       "      <td>48.0</td>\n",
       "    </tr>\n",
       "    <tr>\n",
       "      <th>14</th>\n",
       "      <td>C024</td>\n",
       "      <td>0.0</td>\n",
       "      <td>0.0</td>\n",
       "      <td>12.0</td>\n",
       "      <td>0.0</td>\n",
       "      <td>24.0</td>\n",
       "      <td>24.0</td>\n",
       "    </tr>\n",
       "    <tr>\n",
       "      <th>15</th>\n",
       "      <td>C006</td>\n",
       "      <td>0.0</td>\n",
       "      <td>0.0</td>\n",
       "      <td>90.0</td>\n",
       "      <td>0.0</td>\n",
       "      <td>0.0</td>\n",
       "      <td>0.0</td>\n",
       "    </tr>\n",
       "  </tbody>\n",
       "</table>\n",
       "</div>"
      ],
      "text/plain": [
       "   C_ijk  self a  self b  self z  cross ab  cross az  cross bz\n",
       "0   C400     6.0     6.0     0.0      24.0       0.0       0.0\n",
       "1   C220     2.0     2.0     0.0       8.0       0.0       0.0\n",
       "2   C202     0.0     0.0     0.0       0.0       4.0       4.0\n",
       "3   C040     6.0     6.0     0.0      24.0       0.0       0.0\n",
       "4   C022     0.0     0.0     0.0       0.0       4.0       4.0\n",
       "5   C004     0.0     0.0     6.0       0.0       0.0       0.0\n",
       "6   C600   180.0   180.0     0.0     720.0       0.0       0.0\n",
       "7   C420    36.0    36.0     0.0     144.0       0.0       0.0\n",
       "8   C402     6.0     6.0     0.0      24.0      48.0      48.0\n",
       "9   C240    36.0    36.0     0.0     144.0       0.0       0.0\n",
       "10  C222     2.0     2.0     0.0       8.0      16.0      16.0\n",
       "11  C204     0.0     0.0    12.0       0.0      24.0      24.0\n",
       "12  C060   180.0   180.0     0.0     720.0       0.0       0.0\n",
       "13  C042     6.0     6.0     0.0      24.0      48.0      48.0\n",
       "14  C024     0.0     0.0    12.0       0.0      24.0      24.0\n",
       "15  C006     0.0     0.0    90.0       0.0       0.0       0.0"
      ]
     },
     "metadata": {},
     "output_type": "display_data"
    }
   ],
   "source": [
    "kerr_df = pd.DataFrame(kerr_data)\n",
    "\n",
    "csv_filename = 'kerr_coefficients.csv'\n",
    "kerr_df.to_csv(csv_filename, index=False)\n",
    "\n",
    "# Display the DataFrame\n",
    "display(kerr_df)"
   ]
  },
  {
   "cell_type": "code",
   "execution_count": 42,
   "metadata": {
    "colab": {
     "base_uri": "https://localhost:8080/"
    },
    "executionInfo": {
     "elapsed": 11,
     "status": "ok",
     "timestamp": 1754058765818,
     "user": {
      "displayName": "Ja Eun KIM",
      "userId": "07128633758563491625"
     },
     "user_tz": -540
    },
    "id": "z7DsovYdDJ2J",
    "outputId": "642b33b6-c788-40e3-d94c-d079a93828e8"
   },
   "outputs": [
    {
     "name": "stdout",
     "output_type": "stream",
     "text": [
      "a mode self-Kerr:  (2+0j)\n",
      "b mode self-Kerr:  (2+0j)\n",
      "magnetron-cyclotron cross-Kerr:  (8+0j)\n",
      "z mode self-Kerr:  0\n",
      "z-a cross-Kerr:  0\n",
      "z-b cross-Kerr:  0\n"
     ]
    }
   ],
   "source": [
    "print_kerr(x2y2)"
   ]
  },
  {
   "cell_type": "code",
   "execution_count": 43,
   "metadata": {
    "colab": {
     "base_uri": "https://localhost:8080/"
    },
    "executionInfo": {
     "elapsed": 104,
     "status": "ok",
     "timestamp": 1755211972894,
     "user": {
      "displayName": "Ja Eun KIM",
      "userId": "07128633758563491625"
     },
     "user_tz": -120
    },
    "id": "5RgsxA1pv2_J",
    "outputId": "6a7520ad-fc6a-48e1-bf86-012da70f6820"
   },
   "outputs": [
    {
     "name": "stdout",
     "output_type": "stream",
     "text": [
      "6 0 0\n",
      "0 6 0\n",
      "4 2 0\n",
      "2 4 0\n"
     ]
    }
   ],
   "source": [
    "import pandas as pd\n",
    "\n",
    "# Create an empty list to store the data for the DataFrame\n",
    "kerr_data = []\n",
    "\n",
    "# Define the keys for the Kerr terms\n",
    "sixth_order_keys = (\n",
    "    \"a+_a+_a+_a_a_a\",\n",
    "    \"a+_a+_a_a_b+_b\",\n",
    "    \"a+_a+_a_a\",  # for comparison\n",
    ")\n",
    "\n",
    "for powers in ((6,0,0), (0,6,0), (4,2,0), (2,4,0)):\n",
    "  x_power, y_power, z_power = powers\n",
    "  print(x_power, y_power, z_power)\n",
    "\n",
    "  # initialize an expression with scalar 1\n",
    "  expr = Expression()\n",
    "  expr.expr_dict = {\"\": 1}\n",
    "\n",
    "  # compute the expression\n",
    "  for _ in range(x_power):\n",
    "    expr = expr.multiply(x)\n",
    "\n",
    "  for _ in range(y_power):\n",
    "    expr = expr.multiply(y)\n",
    "\n",
    "  for _ in range(z_power):\n",
    "    expr = expr.multiply(z)\n",
    "\n",
    "  # extract the Kerr terms and append to the dataframe\n",
    "  row = {\"C_ijk\": f\"C{x_power}{y_power}{z_power}\"}\n",
    "\n",
    "  for term_name in sixth_order_keys:\n",
    "      # Get the coefficient, default to 0 if the key is not in the dictionary\n",
    "      row[term_name] = np.real(expr.expr_dict.get(term_name, 0))\n",
    "      assert(np.imag(expr.expr_dict.get(term_name, 0)) == 0)\n",
    "\n",
    "  # Append the row to the list\n",
    "  kerr_data.append(row)"
   ]
  },
  {
   "cell_type": "code",
   "execution_count": 44,
   "metadata": {
    "colab": {
     "base_uri": "https://localhost:8080/",
     "height": 173
    },
    "executionInfo": {
     "elapsed": 62,
     "status": "ok",
     "timestamp": 1755212087544,
     "user": {
      "displayName": "Ja Eun KIM",
      "userId": "07128633758563491625"
     },
     "user_tz": -120
    },
    "id": "3AzfSDQtwoNd",
    "outputId": "0389dcc7-5539-43cf-948b-405a4cfd034d"
   },
   "outputs": [
    {
     "data": {
      "text/html": [
       "<div>\n",
       "<style scoped>\n",
       "    .dataframe tbody tr th:only-of-type {\n",
       "        vertical-align: middle;\n",
       "    }\n",
       "\n",
       "    .dataframe tbody tr th {\n",
       "        vertical-align: top;\n",
       "    }\n",
       "\n",
       "    .dataframe thead th {\n",
       "        text-align: right;\n",
       "    }\n",
       "</style>\n",
       "<table border=\"1\" class=\"dataframe\">\n",
       "  <thead>\n",
       "    <tr style=\"text-align: right;\">\n",
       "      <th></th>\n",
       "      <th>C_ijk</th>\n",
       "      <th>a+_a+_a+_a_a_a</th>\n",
       "      <th>a+_a+_a_a_b+_b</th>\n",
       "      <th>a+_a+_a_a</th>\n",
       "    </tr>\n",
       "  </thead>\n",
       "  <tbody>\n",
       "    <tr>\n",
       "      <th>0</th>\n",
       "      <td>C600</td>\n",
       "      <td>20.0</td>\n",
       "      <td>180.0</td>\n",
       "      <td>180.0</td>\n",
       "    </tr>\n",
       "    <tr>\n",
       "      <th>1</th>\n",
       "      <td>C060</td>\n",
       "      <td>20.0</td>\n",
       "      <td>180.0</td>\n",
       "      <td>180.0</td>\n",
       "    </tr>\n",
       "    <tr>\n",
       "      <th>2</th>\n",
       "      <td>C420</td>\n",
       "      <td>4.0</td>\n",
       "      <td>36.0</td>\n",
       "      <td>36.0</td>\n",
       "    </tr>\n",
       "    <tr>\n",
       "      <th>3</th>\n",
       "      <td>C240</td>\n",
       "      <td>4.0</td>\n",
       "      <td>36.0</td>\n",
       "      <td>36.0</td>\n",
       "    </tr>\n",
       "  </tbody>\n",
       "</table>\n",
       "</div>"
      ],
      "text/plain": [
       "  C_ijk  a+_a+_a+_a_a_a  a+_a+_a_a_b+_b  a+_a+_a_a\n",
       "0  C600            20.0           180.0      180.0\n",
       "1  C060            20.0           180.0      180.0\n",
       "2  C420             4.0            36.0       36.0\n",
       "3  C240             4.0            36.0       36.0"
      ]
     },
     "metadata": {},
     "output_type": "display_data"
    }
   ],
   "source": [
    "kerr_df = pd.DataFrame(kerr_data)\n",
    "\n",
    "csv_filename = 'sixth_order_coefficients.csv'\n",
    "kerr_df.to_csv(csv_filename, index=False)\n",
    "\n",
    "# Display the DataFrame\n",
    "display(kerr_df)"
   ]
  },
  {
   "cell_type": "markdown",
   "metadata": {
    "id": "-Io6_SzVyS4i"
   },
   "source": [
    "## Calculating c6 terms"
   ]
  },
  {
   "cell_type": "markdown",
   "metadata": {
    "id": "MWWZ__eDyS4j"
   },
   "source": [
    "C_6 ( x^6 + y^6 + 4 * z^6 - 15 * x^4 * y^2 - 15 * x^2 * y^4 -30 * y^2 * z^4 - 30 * x^2 * z^4 + 180 * x^2 * y^2 * z^2)"
   ]
  },
  {
   "cell_type": "code",
   "execution_count": 45,
   "metadata": {
    "id": "g3R5BG4FyS4j"
   },
   "outputs": [],
   "source": [
    "# a, b: magnetron and cyclotron\n",
    "# z: z-direction harmonic oscillator's creation and annihilation (it's not the z position operator! it's the ladder operator!)\n",
    "\n",
    "ax = Expression(\"a(+)1.jb\")\n",
    "ax_dag= Expression(\"a+(+)-1.jb+\")\n",
    "\n",
    "ay = Expression(\"1.ja(+)b\")\n",
    "ay_dag = Expression(\"-1.ja+(+)b+\")\n",
    "\n",
    "az = Expression(\"z\")\n",
    "az_dag = Expression(\"z+\")"
   ]
  },
  {
   "cell_type": "code",
   "execution_count": 46,
   "metadata": {
    "id": "B2OaDvVRyS4j"
   },
   "outputs": [],
   "source": [
    "x = add(ax_dag, ax)  # * np.sqrt(hbar/(2m(omega_1)))\n",
    "y = add(ay_dag, ay)  # * np.sqrt(hbar/(2m(omega_1)))\n",
    "z = add(az_dag, az)  # * np.sqrt(hbar/(2m(omega_z)))"
   ]
  },
  {
   "cell_type": "code",
   "execution_count": 47,
   "metadata": {
    "id": "wNhxakueyS4j"
   },
   "outputs": [
    {
     "name": "stdout",
     "output_type": "stream",
     "text": [
      "x:  {'a+': 1, 'b+': -1j, 'a': 1, 'b': 1j}\n",
      "y:  {'a+': -1j, 'b+': 1, 'a': 1j, 'b': 1}\n",
      "z:  {'z+': 1, 'z': 1}\n"
     ]
    }
   ],
   "source": [
    "print(\"x: \", x.expr_dict)\n",
    "print(\"y: \", y.expr_dict)\n",
    "print(\"z: \", z.expr_dict)"
   ]
  },
  {
   "cell_type": "code",
   "execution_count": 48,
   "metadata": {
    "id": "BMBDaT3LyS4j"
   },
   "outputs": [],
   "source": [
    "# we know that this is (ax_dag (+) ax)^4 == 12 axdag_ax + 6axdag_axdag_ax_ax\n",
    "# where axdag_ax == (a+_a + b+_b) + i (a+_b - a_b+)\n",
    "# and axdag_axdag_ax_ax is, after RWA, well, you know. the 4th order terms.\n",
    "# and that is VERIFIED!\n",
    "\n",
    "### Verifing 4th-order terms ###\n",
    "x4 = power(x,4)\n",
    "y4 = power(y,4)\n",
    "x2y2 = power(x,2).multiply(power(y,2))\n",
    "\n",
    "fourth_order = add(add(x4, y4), scalar_multiply(x2y2, -6))"
   ]
  },
  {
   "cell_type": "code",
   "execution_count": 49,
   "metadata": {
    "id": "PP3aEkdRnaoo"
   },
   "outputs": [],
   "source": [
    "xppmm = ax_dag.multiply(ax_dag).multiply(ax).multiply(ax).expr_dict\n",
    "yppmm = ay_dag.multiply(ay_dag).multiply(ay).multiply(ay).expr_dict\n",
    "xpm_ypm = ax_dag.multiply(ax).multiply(ay_dag).multiply(ay).expr_dict"
   ]
  },
  {
   "cell_type": "code",
   "execution_count": 50,
   "metadata": {
    "id": "WuPU31LjoQc2"
   },
   "outputs": [
    {
     "name": "stdout",
     "output_type": "stream",
     "text": [
      "1\n",
      "(1+0j)\n",
      "(1+0j)\n",
      "(1+0j)\n",
      "1\n",
      "(1+0j)\n",
      "(4+0j)\n",
      "(4+0j)\n",
      "0j\n"
     ]
    }
   ],
   "source": [
    "print(xppmm[\"a+_a+_a_a\"])\n",
    "print(yppmm[\"a+_a+_a_a\"])\n",
    "print(xpm_ypm[\"a+_a+_a_a\"])\n",
    "\n",
    "print(xppmm[\"b+_b+_b_b\"])\n",
    "print(yppmm[\"b+_b+_b_b\"])\n",
    "print(xpm_ypm[\"b+_b+_b_b\"])\n",
    "\n",
    "print(xppmm[\"a+_a_b+_b\"])\n",
    "print(yppmm[\"a+_a_b+_b\"])\n",
    "print(xpm_ypm[\"a+_a_b+_b\"])"
   ]
  },
  {
   "cell_type": "code",
   "execution_count": 51,
   "metadata": {
    "id": "fHiwliEqpFtK"
   },
   "outputs": [
    {
     "data": {
      "text/plain": [
       "(-2+0j)"
      ]
     },
     "execution_count": 51,
     "metadata": {},
     "output_type": "execute_result"
    }
   ],
   "source": [
    "xppmm[\"a+_a+_a_a\"] + yppmm[\"a+_a+_a_a\"] + (-4)*xpm_ypm[\"a+_a+_a_a\"]"
   ]
  },
  {
   "cell_type": "code",
   "execution_count": 52,
   "metadata": {
    "id": "oX4LfLOIpLay"
   },
   "outputs": [
    {
     "data": {
      "text/plain": [
       "(-2+0j)"
      ]
     },
     "execution_count": 52,
     "metadata": {},
     "output_type": "execute_result"
    }
   ],
   "source": [
    "xppmm[\"b+_b+_b_b\"] + yppmm[\"b+_b+_b_b\"] + (-4)*xpm_ypm[\"b+_b+_b_b\"]"
   ]
  },
  {
   "cell_type": "code",
   "execution_count": 53,
   "metadata": {
    "id": "Tldvx880pSj8"
   },
   "outputs": [
    {
     "data": {
      "text/plain": [
       "(8+0j)"
      ]
     },
     "execution_count": 53,
     "metadata": {},
     "output_type": "execute_result"
    }
   ],
   "source": [
    "xppmm[\"a+_a_b+_b\"] + yppmm[\"a+_a_b+_b\"] + (-4)*xpm_ypm[\"a+_a_b+_b\"]"
   ]
  },
  {
   "cell_type": "code",
   "execution_count": 54,
   "metadata": {
    "id": "OILTnrEUqQPK"
   },
   "outputs": [
    {
     "data": {
      "text/plain": [
       "{'a+': 1, 'b+': -1j, 'a': 1, 'b': 1j}"
      ]
     },
     "execution_count": 54,
     "metadata": {},
     "output_type": "execute_result"
    }
   ],
   "source": [
    "x.expr_dict"
   ]
  },
  {
   "cell_type": "code",
   "execution_count": 55,
   "metadata": {
    "id": "IxFAuvfOrC3R"
   },
   "outputs": [
    {
     "data": {
      "text/plain": [
       "{'a+': -1j, 'b+': 1, 'a': 1j, 'b': 1}"
      ]
     },
     "execution_count": 55,
     "metadata": {},
     "output_type": "execute_result"
    }
   ],
   "source": [
    "y.expr_dict"
   ]
  },
  {
   "cell_type": "code",
   "execution_count": 56,
   "metadata": {
    "id": "hBFSKzInrERA"
   },
   "outputs": [],
   "source": [
    "xy = x.multiply(y).expr_dict\n",
    "yx = y.multiply(x).expr_dict"
   ]
  },
  {
   "cell_type": "code",
   "execution_count": 57,
   "metadata": {
    "id": "0Y2D3XiSmrUg"
   },
   "outputs": [
    {
     "data": {
      "text/plain": [
       "{'a+_a+_a+_a+': (8+0j),\n",
       " 'a+_a+_a+_b+': 0j,\n",
       " 'a+_a+_a+_a': 0j,\n",
       " 'a+_a+_a+_b': 32j,\n",
       " 'a+_a+_b+_b+': -0j,\n",
       " 'a+_a+_a_b+': 0j,\n",
       " 'a+_a+_b+_b': 0j,\n",
       " 'a+_a+': 0j,\n",
       " 'a+_a+_a_a': 0j,\n",
       " 'a+_a+_a_b': 0j,\n",
       " 'a+_a+_b_b': (-48+0j),\n",
       " 'a+_b+_b+_b+': 0j,\n",
       " 'a+_a_b+_b+': 0j,\n",
       " 'a+_b+_b+_b': 0j,\n",
       " 'a+_b+': 0j,\n",
       " 'a+_a_a_b+': 0j,\n",
       " 'a+_a_b+_b': 0j,\n",
       " 'a+_b+_b_b': 0j,\n",
       " 'a+_a': 0j,\n",
       " 'a+_b': 0j,\n",
       " 'a+_a_a_a': 0j,\n",
       " 'a+_a_a_b': 0j,\n",
       " 'a+_a_b_b': 0j,\n",
       " 'a+_b_b_b': -32j,\n",
       " 'b+_b+_b+_b+': (8+0j),\n",
       " 'a_b+_b+_b+': 32j,\n",
       " 'b+_b+_b+_b': 0j,\n",
       " 'b+_b+': 0j,\n",
       " 'a_a_b+_b+': (-48+0j),\n",
       " 'a_b+_b+_b': 0j,\n",
       " 'b+_b+_b_b': 0j,\n",
       " 'a_b+': 0j,\n",
       " 'b+_b': 0j,\n",
       " 'a_a_a_b+': -32j,\n",
       " 'a_a_b+_b': 0j,\n",
       " 'a_b+_b_b': 0j,\n",
       " 'b+_b_b_b': 0j,\n",
       " '': 0j,\n",
       " 'a_a': 0j,\n",
       " 'a_b': 0j,\n",
       " 'b_b': 0j,\n",
       " 'a_a_a_a': (8+0j),\n",
       " 'a_a_a_b': 0j,\n",
       " 'a_a_b_b': 0j,\n",
       " 'a_b_b_b': 0j,\n",
       " 'b_b_b_b': (8+0j)}"
      ]
     },
     "execution_count": 57,
     "metadata": {},
     "output_type": "execute_result"
    }
   ],
   "source": [
    "fourth_order.expr_dict"
   ]
  },
  {
   "cell_type": "code",
   "execution_count": 58,
   "metadata": {
    "id": "v9BmY0TmrVB4"
   },
   "outputs": [
    {
     "name": "stdout",
     "output_type": "stream",
     "text": [
      "{'a+_a+': -1j, 'a+_b+': 0j, 'a+_a': 0j, 'a+_b': (2+0j), 'b+_b+': -1j, 'a_b+': (2+0j), 'b+_b': 0j, '': 0j, 'a_a': 1j, 'a_b': 0j, 'b_b': 1j}\n"
     ]
    }
   ],
   "source": [
    "print(xy)"
   ]
  },
  {
   "cell_type": "code",
   "execution_count": 59,
   "metadata": {
    "id": "ww6_Ff8-rXBR"
   },
   "outputs": [
    {
     "name": "stdout",
     "output_type": "stream",
     "text": [
      "{'a+_a+': -1j, 'a+_b+': 0j, 'a+_a': 0j, 'a+_b': (2+0j), 'b+_b+': -1j, 'a_b+': (2+0j), 'b+_b': 0j, '': 0j, 'a_a': 1j, 'a_b': 0j, 'b_b': 1j}\n"
     ]
    }
   ],
   "source": [
    "print(yx)"
   ]
  },
  {
   "cell_type": "code",
   "execution_count": null,
   "metadata": {
    "id": "bpp6xsF-rb5_"
   },
   "outputs": [],
   "source": []
  },
  {
   "cell_type": "code",
   "execution_count": 60,
   "metadata": {
    "id": "6GgrTQnumvBw"
   },
   "outputs": [
    {
     "data": {
      "text/plain": [
       "0j"
      ]
     },
     "execution_count": 60,
     "metadata": {},
     "output_type": "execute_result"
    }
   ],
   "source": [
    "fourth_order.expr_dict['a+_a+_a_a']"
   ]
  },
  {
   "cell_type": "code",
   "execution_count": 61,
   "metadata": {
    "id": "-4SHtBAqnRKE"
   },
   "outputs": [
    {
     "data": {
      "text/plain": [
       "0j"
      ]
     },
     "execution_count": 61,
     "metadata": {},
     "output_type": "execute_result"
    }
   ],
   "source": [
    "fourth_order.expr_dict['b+_b+_b_b']"
   ]
  },
  {
   "cell_type": "code",
   "execution_count": 62,
   "metadata": {
    "id": "bQ8VhxqYnTie"
   },
   "outputs": [
    {
     "data": {
      "text/plain": [
       "0j"
      ]
     },
     "execution_count": 62,
     "metadata": {},
     "output_type": "execute_result"
    }
   ],
   "source": [
    "fourth_order.expr_dict['a+_a_b+_b']"
   ]
  },
  {
   "cell_type": "code",
   "execution_count": 63,
   "metadata": {
    "id": "xjmFWZIEyS4j"
   },
   "outputs": [],
   "source": [
    "# C_6 = ( x^6 + y^6 + 4 * z^6 - 15 * x^4 * y^2 - 15 * x^2 * y^4 -30 * y^2 * z^4 - 30 * x^2 * z^4 + 180 * x^2 * y^2 * z^2)\n",
    "# Very long! I will update this expression with each term.\n",
    "c6 = power(x, 6)\n",
    "c6 = add(c6, power(y, 6))\n",
    "c6 = add(c6, scalar_multiply(power(z, 6), 4))\n",
    "c6 = add(c6, scalar_multiply(power(x, 4).multiply(power(y, 2)), -15))\n",
    "c6 = add(c6, scalar_multiply(power(x, 2).multiply(power(y, 4)), -15))\n",
    "c6 = add(c6, scalar_multiply(power(y, 2).multiply(power(z, 4)), -30))\n",
    "c6 = add(c6, scalar_multiply(power(x, 2).multiply(power(z, 4)), -30))\n",
    "c6 = add(c6, scalar_multiply(power(x, 2).multiply(power(y, 2)).multiply(power(z, 2)), 180))"
   ]
  },
  {
   "cell_type": "code",
   "execution_count": 64,
   "metadata": {
    "id": "D1JtexwZj9ph"
   },
   "outputs": [],
   "source": [
    "xy = x.multiply(y)\n",
    "yx = y.multiply(x)"
   ]
  },
  {
   "cell_type": "code",
   "execution_count": 65,
   "metadata": {
    "id": "4GRVrbO9kLuc"
   },
   "outputs": [
    {
     "data": {
      "text/plain": [
       "{'a+_a+': -1j,\n",
       " 'a+_b+': 0j,\n",
       " 'a+_a': 0j,\n",
       " 'a+_b': (2+0j),\n",
       " 'b+_b+': -1j,\n",
       " 'a_b+': (2+0j),\n",
       " 'b+_b': 0j,\n",
       " '': 0j,\n",
       " 'a_a': 1j,\n",
       " 'a_b': 0j,\n",
       " 'b_b': 1j}"
      ]
     },
     "execution_count": 65,
     "metadata": {},
     "output_type": "execute_result"
    }
   ],
   "source": [
    "xy.expr_dict"
   ]
  },
  {
   "cell_type": "code",
   "execution_count": 66,
   "metadata": {
    "id": "PJ43cEx1kM6A"
   },
   "outputs": [
    {
     "data": {
      "text/plain": [
       "{'a+_a+': -1j,\n",
       " 'a+_b+': 0j,\n",
       " 'a+_a': 0j,\n",
       " 'a+_b': (2+0j),\n",
       " 'b+_b+': -1j,\n",
       " 'a_b+': (2+0j),\n",
       " 'b+_b': 0j,\n",
       " '': 0j,\n",
       " 'a_a': 1j,\n",
       " 'a_b': 0j,\n",
       " 'b_b': 1j}"
      ]
     },
     "execution_count": 66,
     "metadata": {},
     "output_type": "execute_result"
    }
   ],
   "source": [
    "yx.expr_dict"
   ]
  },
  {
   "cell_type": "code",
   "execution_count": 67,
   "metadata": {
    "id": "_q1rqiUUlZSW"
   },
   "outputs": [],
   "source": [
    "xyxy = xy.multiply(xy)\n",
    "yxyx = yx.multiply(yx)"
   ]
  },
  {
   "cell_type": "code",
   "execution_count": 68,
   "metadata": {
    "id": "sXdKa5jElktC"
   },
   "outputs": [],
   "source": [
    "for key, value in xyxy.expr_dict.items():\n",
    "  if yxyx.expr_dict[key] != value:\n",
    "    print(\"Not the same! \", key, \"xyxy: \", value, \"yxyx:v\", yxyx.expr_dict[key])"
   ]
  },
  {
   "cell_type": "code",
   "execution_count": 69,
   "metadata": {
    "id": "toLvB18Wynif"
   },
   "outputs": [
    {
     "data": {
      "text/plain": [
       "{'a+_a+_a+_a+_a+_a+': 0j,\n",
       " 'a+_a+_a+_a+_a+_b+': -72j,\n",
       " 'a+_a+_a+_a+_a+_a': (72+0j),\n",
       " 'a+_a+_a+_a+_a+_b': 0j,\n",
       " 'a+_a+_a+_a+_b+_b+': 0j,\n",
       " 'a+_a+_a+_a+_a_b+': 0j,\n",
       " 'a+_a+_a+_a+_b+_b': (360+0j),\n",
       " 'a+_a+_a+_a+': (180+0j),\n",
       " 'a+_a+_a+_a+_a_a': 0j,\n",
       " 'a+_a+_a+_a+_a_b': 360j,\n",
       " 'a+_a+_a+_a+_b_b': 0j,\n",
       " 'a+_a+_a+_b+_b+_b+': (-0-80j),\n",
       " 'a+_a+_a+_a_b+_b+': (240+0j),\n",
       " 'a+_a+_a+_b+_b+_b': 0j,\n",
       " 'a+_a+_a+_b+': 0j,\n",
       " 'a+_a+_a+_a_a_b+': 240j,\n",
       " 'a+_a+_a+_a_b+_b': 0j,\n",
       " 'a+_a+_a+_b+_b_b': 720j,\n",
       " 'a+_a+_a+_a': 0j,\n",
       " 'a+_a+_a+_b': 720j,\n",
       " 'a+_a+_a+_a_a_a': (-80+0j),\n",
       " 'a+_a+_a+_a_a_b': 0j,\n",
       " 'a+_a+_a+_a_b_b': (-720+0j),\n",
       " 'a+_a+_a+_b_b_b': 0j,\n",
       " 'a+_a+_b+_b+_b+_b+': 0j,\n",
       " 'a+_a+_a_b+_b+_b+': 0j,\n",
       " 'a+_a+_b+_b+_b+_b': (240+0j),\n",
       " 'a+_a+_b+_b+': (360+0j),\n",
       " 'a+_a+_a_a_b+_b+': 0j,\n",
       " 'a+_a+_a_b+_b+_b': 720j,\n",
       " 'a+_a+_b+_b+_b_b': 0j,\n",
       " 'a+_a+_a_b+': 720j,\n",
       " 'a+_a+_b+_b': 0j,\n",
       " 'a+_a+_a_a_a_b+': 0j,\n",
       " 'a+_a+_a_a_b+_b': (-720+0j),\n",
       " 'a+_a+_a_b+_b_b': 0j,\n",
       " 'a+_a+_b+_b_b_b': (-720+0j),\n",
       " 'a+_a+': 0j,\n",
       " 'a+_a+_a_a': (-360+0j),\n",
       " 'a+_a+_a_b': 0j,\n",
       " 'a+_a+_b_b': (-1080+0j),\n",
       " 'a+_a+_a_a_a_a': 0j,\n",
       " 'a+_a+_a_a_a_b': -240j,\n",
       " 'a+_a+_a_a_b_b': 0j,\n",
       " 'a+_a+_a_b_b_b': -720j,\n",
       " 'a+_a+_b_b_b_b': 0j,\n",
       " 'a+_b+_b+_b+_b+_b+': -72j,\n",
       " 'a+_a_b+_b+_b+_b+': (360+0j),\n",
       " 'a+_b+_b+_b+_b+_b': 0j,\n",
       " 'a+_b+_b+_b+': 0j,\n",
       " 'a+_a_a_b+_b+_b+': 720j,\n",
       " 'a+_a_b+_b+_b+_b': 0j,\n",
       " 'a+_b+_b+_b+_b_b': 240j,\n",
       " 'a+_a_b+_b+': 0j,\n",
       " 'a+_b+_b+_b': 720j,\n",
       " 'a+_a_a_a_b+_b+': (-720+0j),\n",
       " 'a+_a_a_b+_b+_b': 0j,\n",
       " 'a+_a_b+_b+_b_b': (-720+0j),\n",
       " 'a+_b+_b+_b_b_b': 0j,\n",
       " 'a+_b+': 360j,\n",
       " 'a+_a_a_b+': 0j,\n",
       " 'a+_a_b+_b': (-1440+0j),\n",
       " 'a+_b+_b_b': 0j,\n",
       " 'a+_a_a_a_a_b+': -360j,\n",
       " 'a+_a_a_a_b+_b': 0j,\n",
       " 'a+_a_a_b+_b_b': -720j,\n",
       " 'a+_a_b+_b_b_b': 0j,\n",
       " 'a+_b+_b_b_b_b': -360j,\n",
       " 'a+_a': (-360+0j),\n",
       " 'a+_b': 0j,\n",
       " 'a+_a_a_a': 0j,\n",
       " 'a+_a_a_b': -720j,\n",
       " 'a+_a_b_b': 0j,\n",
       " 'a+_b_b_b': -720j,\n",
       " 'a+_a_a_a_a_a': (72+0j),\n",
       " 'a+_a_a_a_a_b': 0j,\n",
       " 'a+_a_a_a_b_b': (240+0j),\n",
       " 'a+_a_a_b_b_b': 0j,\n",
       " 'a+_a_b_b_b_b': (360+0j),\n",
       " 'a+_b_b_b_b_b': 0j,\n",
       " 'b+_b+_b+_b+_b+_b+': 0j,\n",
       " 'a_b+_b+_b+_b+_b+': 0j,\n",
       " 'b+_b+_b+_b+_b+_b': (72+0j),\n",
       " 'b+_b+_b+_b+': (180+0j),\n",
       " 'a_a_b+_b+_b+_b+': 0j,\n",
       " 'a_b+_b+_b+_b+_b': 360j,\n",
       " 'b+_b+_b+_b+_b_b': 0j,\n",
       " 'a_b+_b+_b+': 720j,\n",
       " 'b+_b+_b+_b': 0j,\n",
       " 'a_a_a_b+_b+_b+': 0j,\n",
       " 'a_a_b+_b+_b+_b': (-720+0j),\n",
       " 'a_b+_b+_b+_b_b': 0j,\n",
       " 'b+_b+_b+_b_b_b': (-80+0j),\n",
       " 'b+_b+': 0j,\n",
       " 'a_a_b+_b+': (-1080+0j),\n",
       " 'a_b+_b+_b': 0j,\n",
       " 'b+_b+_b_b': (-360+0j),\n",
       " 'a_a_a_a_b+_b+': 0j,\n",
       " 'a_a_a_b+_b+_b': -720j,\n",
       " 'a_a_b+_b+_b_b': 0j,\n",
       " 'a_b+_b+_b_b_b': -240j,\n",
       " 'b+_b+_b_b_b_b': 0j,\n",
       " 'a_b+': 0j,\n",
       " 'b+_b': (-360+0j),\n",
       " 'a_a_a_b+': -720j,\n",
       " 'a_a_b+_b': 0j,\n",
       " 'a_b+_b_b': -720j,\n",
       " 'b+_b_b_b': 0j,\n",
       " 'a_a_a_a_a_b+': 0j,\n",
       " 'a_a_a_a_b+_b': (360+0j),\n",
       " 'a_a_a_b+_b_b': 0j,\n",
       " 'a_a_b+_b_b_b': (240+0j),\n",
       " 'a_b+_b_b_b_b': 0j,\n",
       " 'b+_b_b_b_b_b': (72+0j),\n",
       " '': (-60+0j),\n",
       " 'a_a': 0j,\n",
       " 'a_b': -360j,\n",
       " 'b_b': 0j,\n",
       " 'a_a_a_a': (180+0j),\n",
       " 'a_a_a_b': 0j,\n",
       " 'a_a_b_b': (360+0j),\n",
       " 'a_b_b_b': 0j,\n",
       " 'b_b_b_b': (180+0j),\n",
       " 'a_a_a_a_a_a': 0j,\n",
       " 'a_a_a_a_a_b': 72j,\n",
       " 'a_a_a_a_b_b': 0j,\n",
       " 'a_a_a_b_b_b': 80j,\n",
       " 'a_a_b_b_b_b': 0j,\n",
       " 'a_b_b_b_b_b': 72j,\n",
       " 'b_b_b_b_b_b': 0j,\n",
       " 'z+_z+_z+_z+_z+_z+': 4,\n",
       " 'z+_z+_z+_z+_z+_z': 24,\n",
       " 'z+_z+_z+_z+': (-60+0j),\n",
       " 'z+_z+_z+_z+_z_z': 60,\n",
       " 'z+_z+_z+_z': (-240+0j),\n",
       " 'z+_z+_z+_z_z_z': 80,\n",
       " 'z+_z+': (180+0j),\n",
       " 'z+_z+_z_z': (-360+0j),\n",
       " 'z+_z+_z_z_z_z': 60,\n",
       " 'z+_z': (360+0j),\n",
       " 'z+_z_z_z': (-240+0j),\n",
       " 'z+_z_z_z_z_z': 24,\n",
       " 'z_z': (180+0j),\n",
       " 'z_z_z_z': (-60+0j),\n",
       " 'z_z_z_z_z_z': 4,\n",
       " 'a+_a+_z+_z+_z+_z+': 0j,\n",
       " 'a+_a+_z+_z+_z+_z': 0j,\n",
       " 'a+_a+_z+_z+': 0j,\n",
       " 'a+_a+_z+_z+_z_z': 0j,\n",
       " 'a+_a+_z+_z': 0j,\n",
       " 'a+_a+_z+_z_z_z': 0j,\n",
       " 'a+_a+_z_z': 0j,\n",
       " 'a+_a+_z_z_z_z': 0j,\n",
       " 'a+_b+_z+_z+_z+_z+': 120j,\n",
       " 'a+_b+_z+_z+_z+_z': 480j,\n",
       " 'a+_b+_z+_z+': -720j,\n",
       " 'a+_b+_z+_z+_z_z': 720j,\n",
       " 'a+_b+_z+_z': -1440j,\n",
       " 'a+_b+_z+_z_z_z': 480j,\n",
       " 'a+_b+_z_z': -720j,\n",
       " 'a+_b+_z_z_z_z': 120j,\n",
       " 'a+_a_z+_z+_z+_z+': (-120+0j),\n",
       " 'a+_a_z+_z+_z+_z': (-480+0j),\n",
       " 'a+_a_z+_z+': (720+0j),\n",
       " 'a+_a_z+_z+_z_z': (-720+0j),\n",
       " 'a+_a_z+_z': (1440+0j),\n",
       " 'a+_a_z+_z_z_z': (-480+0j),\n",
       " 'a+_a_z_z': (720+0j),\n",
       " 'a+_a_z_z_z_z': (-120+0j),\n",
       " 'a+_b_z+_z+_z+_z+': 0j,\n",
       " 'a+_b_z+_z+_z+_z': 0j,\n",
       " 'a+_b_z+_z+': 0j,\n",
       " 'a+_b_z+_z+_z_z': 0j,\n",
       " 'a+_b_z+_z': 0j,\n",
       " 'a+_b_z+_z_z_z': 0j,\n",
       " 'a+_b_z_z': 0j,\n",
       " 'a+_b_z_z_z_z': 0j,\n",
       " 'b+_b+_z+_z+_z+_z+': 0j,\n",
       " 'b+_b+_z+_z+_z+_z': 0j,\n",
       " 'b+_b+_z+_z+': 0j,\n",
       " 'b+_b+_z+_z+_z_z': 0j,\n",
       " 'b+_b+_z+_z': 0j,\n",
       " 'b+_b+_z+_z_z_z': 0j,\n",
       " 'b+_b+_z_z': 0j,\n",
       " 'b+_b+_z_z_z_z': 0j,\n",
       " 'a_b+_z+_z+_z+_z+': 0j,\n",
       " 'a_b+_z+_z+_z+_z': 0j,\n",
       " 'a_b+_z+_z+': 0j,\n",
       " 'a_b+_z+_z+_z_z': 0j,\n",
       " 'a_b+_z+_z': 0j,\n",
       " 'a_b+_z+_z_z_z': 0j,\n",
       " 'a_b+_z_z': 0j,\n",
       " 'a_b+_z_z_z_z': 0j,\n",
       " 'b+_b_z+_z+_z+_z+': (-120+0j),\n",
       " 'b+_b_z+_z+_z+_z': (-480+0j),\n",
       " 'b+_b_z+_z+': (720+0j),\n",
       " 'b+_b_z+_z+_z_z': (-720+0j),\n",
       " 'b+_b_z+_z': (1440+0j),\n",
       " 'b+_b_z+_z_z_z': (-480+0j),\n",
       " 'b+_b_z_z': (720+0j),\n",
       " 'b+_b_z_z_z_z': (-120+0j),\n",
       " 'a_a_z+_z+_z+_z+': 0j,\n",
       " 'a_a_z+_z+_z+_z': 0j,\n",
       " 'a_a_z+_z+': 0j,\n",
       " 'a_a_z+_z+_z_z': 0j,\n",
       " 'a_a_z+_z': 0j,\n",
       " 'a_a_z+_z_z_z': 0j,\n",
       " 'a_a_z_z': 0j,\n",
       " 'a_a_z_z_z_z': 0j,\n",
       " 'a_b_z+_z+_z+_z+': (-0-120j),\n",
       " 'a_b_z+_z+_z+_z': (-0-480j),\n",
       " 'a_b_z+_z+': 720j,\n",
       " 'a_b_z+_z+_z_z': (-0-720j),\n",
       " 'a_b_z+_z': 1440j,\n",
       " 'a_b_z+_z_z_z': (-0-480j),\n",
       " 'a_b_z_z': 720j,\n",
       " 'a_b_z_z_z_z': (-0-120j),\n",
       " 'b_b_z+_z+_z+_z+': 0j,\n",
       " 'b_b_z+_z+_z+_z': 0j,\n",
       " 'b_b_z+_z+': 0j,\n",
       " 'b_b_z+_z+_z_z': 0j,\n",
       " 'b_b_z+_z': 0j,\n",
       " 'b_b_z+_z_z_z': 0j,\n",
       " 'b_b_z_z': 0j,\n",
       " 'b_b_z_z_z_z': 0j,\n",
       " 'a+_a+_a+_a+_z+_z+': (-180-0j),\n",
       " 'a+_a+_a+_a+_z+_z': (-360-0j),\n",
       " 'a+_a+_a+_a+_z_z': (-180-0j),\n",
       " 'a+_a+_a+_b+_z+_z+': 0j,\n",
       " 'a+_a+_a+_b+_z+_z': 0j,\n",
       " 'a+_a+_a+_b+_z_z': 0j,\n",
       " 'a+_a+_a+_a_z+_z+': 0j,\n",
       " 'a+_a+_a+_a_z+_z': 0j,\n",
       " 'a+_a+_a+_a_z_z': 0j,\n",
       " 'a+_a+_a+_b_z+_z+': -720j,\n",
       " 'a+_a+_a+_b_z+_z': -1440j,\n",
       " 'a+_a+_a+_b_z_z': -720j,\n",
       " 'a+_a+_b+_b+_z+_z+': (-360+0j),\n",
       " 'a+_a+_b+_b+_z+_z': (-720+0j),\n",
       " 'a+_a+_b+_b+_z_z': (-360+0j),\n",
       " 'a+_a+_a_b+_z+_z+': -720j,\n",
       " 'a+_a+_a_b+_z+_z': -1440j,\n",
       " 'a+_a+_a_b+_z_z': -720j,\n",
       " 'a+_a+_b+_b_z+_z+': 0j,\n",
       " 'a+_a+_b+_b_z+_z': 0j,\n",
       " 'a+_a+_b+_b_z_z': 0j,\n",
       " 'a+_a+_a_a_z+_z+': (360+0j),\n",
       " 'a+_a+_a_a_z+_z': (720+0j),\n",
       " 'a+_a+_a_a_z_z': (360+0j),\n",
       " 'a+_a+_a_b_z+_z+': 0j,\n",
       " 'a+_a+_a_b_z+_z': 0j,\n",
       " 'a+_a+_a_b_z_z': 0j,\n",
       " 'a+_a+_b_b_z+_z+': (1080+0j),\n",
       " 'a+_a+_b_b_z+_z': (2160+0j),\n",
       " 'a+_a+_b_b_z_z': (1080+0j),\n",
       " 'a+_b+_b+_b+_z+_z+': 0j,\n",
       " 'a+_b+_b+_b+_z+_z': 0j,\n",
       " 'a+_b+_b+_b+_z_z': 0j,\n",
       " 'a+_a_b+_b+_z+_z+': 0j,\n",
       " 'a+_a_b+_b+_z+_z': 0j,\n",
       " 'a+_a_b+_b+_z_z': 0j,\n",
       " 'a+_b+_b+_b_z+_z+': -720j,\n",
       " 'a+_b+_b+_b_z+_z': -1440j,\n",
       " 'a+_b+_b+_b_z_z': -720j,\n",
       " 'a+_a_a_b+_z+_z+': 0j,\n",
       " 'a+_a_a_b+_z+_z': 0j,\n",
       " 'a+_a_a_b+_z_z': 0j,\n",
       " 'a+_a_b+_b_z+_z+': (1440+0j),\n",
       " 'a+_a_b+_b_z+_z': (2880+0j),\n",
       " 'a+_a_b+_b_z_z': (1440+0j),\n",
       " 'a+_b+_b_b_z+_z+': 0j,\n",
       " 'a+_b+_b_b_z+_z': 0j,\n",
       " 'a+_b+_b_b_z_z': 0j,\n",
       " 'a+_a_a_a_z+_z+': 0j,\n",
       " 'a+_a_a_a_z+_z': 0j,\n",
       " 'a+_a_a_a_z_z': 0j,\n",
       " 'a+_a_a_b_z+_z+': 720j,\n",
       " 'a+_a_a_b_z+_z': 1440j,\n",
       " 'a+_a_a_b_z_z': 720j,\n",
       " 'a+_a_b_b_z+_z+': 0j,\n",
       " 'a+_a_b_b_z+_z': 0j,\n",
       " 'a+_a_b_b_z_z': 0j,\n",
       " 'a+_b_b_b_z+_z+': 720j,\n",
       " 'a+_b_b_b_z+_z': 1440j,\n",
       " 'a+_b_b_b_z_z': 720j,\n",
       " 'b+_b+_b+_b+_z+_z+': (-180-0j),\n",
       " 'b+_b+_b+_b+_z+_z': (-360-0j),\n",
       " 'b+_b+_b+_b+_z_z': (-180-0j),\n",
       " 'a_b+_b+_b+_z+_z+': -720j,\n",
       " 'a_b+_b+_b+_z+_z': -1440j,\n",
       " 'a_b+_b+_b+_z_z': -720j,\n",
       " 'b+_b+_b+_b_z+_z+': 0j,\n",
       " 'b+_b+_b+_b_z+_z': 0j,\n",
       " 'b+_b+_b+_b_z_z': 0j,\n",
       " 'a_a_b+_b+_z+_z+': (1080+0j),\n",
       " 'a_a_b+_b+_z+_z': (2160+0j),\n",
       " 'a_a_b+_b+_z_z': (1080+0j),\n",
       " 'a_b+_b+_b_z+_z+': 0j,\n",
       " 'a_b+_b+_b_z+_z': 0j,\n",
       " 'a_b+_b+_b_z_z': 0j,\n",
       " 'b+_b+_b_b_z+_z+': (360+0j),\n",
       " 'b+_b+_b_b_z+_z': (720+0j),\n",
       " 'b+_b+_b_b_z_z': (360+0j),\n",
       " 'a_a_a_b+_z+_z+': 720j,\n",
       " 'a_a_a_b+_z+_z': 1440j,\n",
       " 'a_a_a_b+_z_z': 720j,\n",
       " 'a_a_b+_b_z+_z+': 0j,\n",
       " 'a_a_b+_b_z+_z': 0j,\n",
       " 'a_a_b+_b_z_z': 0j,\n",
       " 'a_b+_b_b_z+_z+': 720j,\n",
       " 'a_b+_b_b_z+_z': 1440j,\n",
       " 'a_b+_b_b_z_z': 720j,\n",
       " 'b+_b_b_b_z+_z+': 0j,\n",
       " 'b+_b_b_b_z+_z': 0j,\n",
       " 'b+_b_b_b_z_z': 0j,\n",
       " 'a_a_a_a_z+_z+': (-180+0j),\n",
       " 'a_a_a_a_z+_z': (-360+0j),\n",
       " 'a_a_a_a_z_z': (-180+0j),\n",
       " 'a_a_a_b_z+_z+': 0j,\n",
       " 'a_a_a_b_z+_z': 0j,\n",
       " 'a_a_a_b_z_z': 0j,\n",
       " 'a_a_b_b_z+_z+': (-360+0j),\n",
       " 'a_a_b_b_z+_z': (-720+0j),\n",
       " 'a_a_b_b_z_z': (-360+0j),\n",
       " 'a_b_b_b_z+_z+': 0j,\n",
       " 'a_b_b_b_z+_z': 0j,\n",
       " 'a_b_b_b_z_z': 0j,\n",
       " 'b_b_b_b_z+_z+': (-180+0j),\n",
       " 'b_b_b_b_z+_z': (-360+0j),\n",
       " 'b_b_b_b_z_z': (-180+0j)}"
      ]
     },
     "execution_count": 69,
     "metadata": {},
     "output_type": "execute_result"
    }
   ],
   "source": [
    "# >> This is the result <<\n",
    "c6.expr_dict"
   ]
  },
  {
   "cell_type": "markdown",
   "metadata": {
    "id": "JrPKaowTyS4k"
   },
   "source": [
    "Fantastically many terms, but it's an dictionary, so you can of course just identify the coefficient you want with c6.expr_dict[some_expression].  \\\n",
    "Also, we can implement a simple loop that picks out certain order terms. (=apply RWA)"
   ]
  }
 ],
 "metadata": {
  "colab": {
   "provenance": []
  },
  "kernelspec": {
   "display_name": "experiment",
   "language": "python",
   "name": "python3"
  },
  "language_info": {
   "codemirror_mode": {
    "name": "ipython",
    "version": 3
   },
   "file_extension": ".py",
   "mimetype": "text/x-python",
   "name": "python",
   "nbconvert_exporter": "python",
   "pygments_lexer": "ipython3",
   "version": "3.13.3"
  }
 },
 "nbformat": 4,
 "nbformat_minor": 4
}
