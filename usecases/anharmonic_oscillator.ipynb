{
 "cells": [
  {
   "cell_type": "code",
   "execution_count": 1,
   "id": "3ddcf628",
   "metadata": {},
   "outputs": [],
   "source": [
    "from ladders import Expression\n",
    "from ladders import add, power, compare_expr, scalar_multiply\n",
    "from ladders import print_nonzero_terms, print_kerr"
   ]
  },
  {
   "cell_type": "code",
   "execution_count": 2,
   "id": "573c0726",
   "metadata": {},
   "outputs": [],
   "source": [
    "x = Expression(\"a+(+)a\")\n",
    "p = Expression(\"1.ja+(+)-1.ja\")"
   ]
  },
  {
   "cell_type": "code",
   "execution_count": 3,
   "id": "860a4dad",
   "metadata": {},
   "outputs": [
    {
     "name": "stdout",
     "output_type": "stream",
     "text": [
      "{'a+': 1, 'a': 1}\n",
      "{'a+': 1j, 'a': -1j}\n"
     ]
    }
   ],
   "source": [
    "print(x.expr_dict)\n",
    "print(p.expr_dict)"
   ]
  },
  {
   "cell_type": "code",
   "execution_count": 4,
   "id": "83404071",
   "metadata": {},
   "outputs": [],
   "source": [
    "x6 = power(x, 6)\n",
    "x4 = power(x, 4)\n",
    "x2 = power(x, 2)\n",
    "p2 = power(p, 2)"
   ]
  },
  {
   "cell_type": "code",
   "execution_count": 45,
   "id": "1cf72777",
   "metadata": {},
   "outputs": [
    {
     "data": {
      "text/plain": [
       "<ladders.Expression at 0x1070a0b00>"
      ]
     },
     "execution_count": 45,
     "metadata": {},
     "output_type": "execute_result"
    }
   ],
   "source": [
    "power(x, 2)"
   ]
  },
  {
   "cell_type": "code",
   "execution_count": 52,
   "id": "36549409",
   "metadata": {},
   "outputs": [
    {
     "name": "stdout",
     "output_type": "stream",
     "text": [
      "H = p^2+x^2 gives:\"a+_a\": (4+0j), \"a+_a+\": 0j\n",
      "0\n",
      "H = p^2+x^4 gives:\"a+_a\": (14+0j), \"a+_a+\": (5+0j)\n",
      "4\n",
      "H = p^2+x^6 gives:\"a+_a\": (92+0j), \"a+_a+\": (44+0j)\n",
      "60\n",
      "H = p^2+x^8 gives:\"a+_a\": (842+0j), \"a+_a+\": (419+0j)\n",
      "840\n",
      "H = p^2+x^10 gives:\"a+_a\": (9452+0j), \"a+_a+\": (4724+0j)\n",
      "12600\n",
      "H = p^2+x^12 gives:\"a+_a\": (124742+0j), \"a+_a+\": (62369+0j)\n",
      "207900\n",
      "H = p^2+x^14 gives:\"a+_a\": (1891892+0j), \"a+_a+\": (945944+0j)\n",
      "3783780\n",
      "H = p^2+x^16 gives:\"a+_a\": (32432402+0j), \"a+_a+\": (16216199+0j)\n",
      "75675600\n",
      "H = p^2+x^18 gives:\"a+_a\": (620269652+0j), \"a+_a+\": (310134824+0j)\n",
      "1654052400\n",
      "H = p^2+x^20 gives:\"a+_a\": (13094581502+0j), \"a+_a+\": (6547290749+0j)\n",
      "39283744500\n",
      "H = p^2+x^22 gives:\"a+_a\": (302484832652+0j), \"a+_a+\": (151242416324+0j)\n",
      "1008282775500\n",
      "H = p^2+x^24 gives:\"a+_a\": (7589619437402+0j), \"a+_a+\": (3794809718699+0j)\n",
      "27828604603800\n",
      "H = p^2+x^26 gives:\"a+_a\": (205552193096252+0j), \"a+_a+\": (102776096548124+0j)\n",
      "822208772385000\n",
      "H = p^2+x^28 gives:\"a+_a\": (5976825306952502+0j), \"a+_a+\": (2988412653476249+0j)\n",
      "25899576330127500\n",
      "H = p^2+x^30 gives:\"a+_a\": (1.8570850060888125e+17+0j), \"a+_a+\": (9.285425030444062e+16+0j)\n",
      "866639669508112500\n",
      "H = p^2+x^32 gives:\"a+_a\": (6.14076108680034e+18+0j), \"a+_a+\": (3.07038054340017e+18+0j)\n",
      "30703805434001700000\n",
      "H = p^2+x^34 gives:\"a+_a\": (2.1531043560593693e+20+0j), \"a+_a+\": (1.0765521780296847e+20+0j)\n",
      "1148322323231663580000\n",
      "H = p^2+x^36 gives:\"a+_a\": (7.979151437161192e+21+0j), \"a+_a+\": (3.989575718580596e+21+0j)\n",
      "45215191477246753462500\n",
      "H = p^2+x^38 gives:\"a+_a\": (3.116301922402399e+23+0j), \"a+_a+\": (1.5581509612011996e+23+0j)\n",
      "1869781153441439275537500\n"
     ]
    }
   ],
   "source": [
    "orders = np.arange(2, 40, 2)\n",
    "ratios = []\n",
    "ratios2 = []\n",
    "ratios3 = []\n",
    "ratios4 = []\n",
    "for potential_order in orders:\n",
    "    potential = power(x, potential_order)\n",
    "    hamiltonian = add(p2, potential)\n",
    "    print(f\"H = p^2+x^{potential_order} gives:\\\"a+_a\\\": {hamiltonian.expr_dict[\"a+_a\"]}, \\\"a+_a+\\\": {hamiltonian.expr_dict[\"a+_a+\"]}\")\n",
    "    ratio = abs(hamiltonian.expr_dict[\"a+_a+\"] / hamiltonian.expr_dict[\"a+_a\"])\n",
    "    print(hamiltonian.expr_dict.get(\"a+_a+_a+_a\", 0))\n",
    "    ratio2 = abs(hamiltonian.expr_dict.get(\"a+_a+_a+_a\", 0) / hamiltonian.expr_dict[\"a+_a\"])\n",
    "    ratio3 = abs(hamiltonian.expr_dict.get(\"a+_a+_a+_a+_a_a\", 0) / hamiltonian.expr_dict[\"a+_a\"])\n",
    "    ratio4 = abs(hamiltonian.expr_dict.get(\"a+_a+_a+_a+_a+_a_a_a\", 0) / hamiltonian.expr_dict[\"a+_a\"])\n",
    "    # print(f\"Ratio of a+_a+ to a+_a: {ratio}\")\n",
    "    ratios.append(ratio)\n",
    "    ratios2.append(ratio2)\n",
    "    ratios3.append(ratio3)\n",
    "    ratios4.append(ratio4)"
   ]
  },
  {
   "cell_type": "code",
   "execution_count": null,
   "id": "5f54029f",
   "metadata": {},
   "outputs": [
    {
     "name": "stdout",
     "output_type": "stream",
     "text": [
      "____\n",
      "____\n",
      "____\n",
      "0\n",
      "____\n",
      "0\n",
      "2\n",
      "____\n",
      "0\n",
      "2\n",
      "4\n",
      "____\n",
      "0\n",
      "2\n",
      "4\n",
      "6\n"
     ]
    }
   ],
   "source": [
    "orders = [2, 4, 6, 8, 10, 12, 14, 16, 18, 20]\n",
    "ratios = []\n",
    "ratios2 = []\n",
    "ratios3 = []\n",
    "ratios4 = []\n",
    "for potential_order in orders:\n",
    "    print(\"____\")\n",
    "    potential = power(x, potential_order)\n",
    "    hamiltonian = add(p2, potential)\n",
    "    keys = [\"a+_a+\"]\n",
    "    for i in range(0, potential_order-4, 2):\n",
    "        new_key = \"a+_a+\"\n",
    "        new_key += \"_a+_a\" + \"\"\n",
    "        print(i)\n",
    "    # print(f\"H = p^2+x^{potential_order} gives:\\\"a+_a\\\": {hamiltonian.expr_dict[\"a+_a\"]}, \\\"a+_a+\\\": {hamiltonian.expr_dict[\"a+_a+\"]}\")\n",
    "    # ratio = abs(hamiltonian.expr_dict[\"a+_a+\"] / hamiltonian.expr_dict[\"a+_a\"])\n",
    "    # print(hamiltonian.expr_dict.get(\"a+_a+_a+_a\", 0))\n",
    "    # ratio2 = abs(hamiltonian.expr_dict.get(\"a+_a+_a+_a\", 0) / hamiltonian.expr_dict[\"a+_a\"])\n",
    "    # # print(f\"Ratio of a+_a+ to a+_a: {ratio}\")\n",
    "    # ratios.append(ratio)\n",
    "    # ratios2.append(ratio2)"
   ]
  },
  {
   "cell_type": "code",
   "execution_count": 53,
   "id": "40959d3e",
   "metadata": {},
   "outputs": [
    {
     "data": {
      "image/png": "[encoded data removed]",
      "text/plain": [
       "<Figure size 640x480 with 1 Axes>"
      ]
     },
     "metadata": {},
     "output_type": "display_data"
    }
   ],
   "source": [
    "import matplotlib.pyplot as plt\n",
    "plt.plot(orders, ratios, marker='o', label=\"a+_a+\")\n",
    "plt.plot(orders, ratios2, marker='x', label=\"a+_a+_a+_a\")\n",
    "plt.plot(orders, ratios3, marker='s', label=\"a+_a+_a+_a+_a_a\")\n",
    "plt.plot(orders, ratios4, marker='^', label=\"a+_a+_a+_a+_a+_a_a_a\")\n",
    "plt.xlabel(\"order of the potential term\")\n",
    "plt.ylabel(\"Ratio to the number operator\")\n",
    "plt.title(\"Hamiltonian with higher order potential terms\")\n",
    "plt.legend()\n",
    "plt.show()"
   ]
  },
  {
   "cell_type": "code",
   "execution_count": 46,
   "id": "e96ee3fa",
   "metadata": {},
   "outputs": [
    {
     "data": {
      "text/plain": [
       "{'a+_a+_a+_a+_a+_a+': 1,\n",
       " 'a+_a+_a+_a+_a+_a': 6,\n",
       " 'a+_a+_a+_a+': 15,\n",
       " 'a+_a+_a+_a+_a_a': 15,\n",
       " 'a+_a+_a+_a': 60,\n",
       " 'a+_a+_a+_a_a_a': 20,\n",
       " 'a+_a+': 45,\n",
       " 'a+_a+_a_a': 90,\n",
       " 'a+_a+_a_a_a_a': 15,\n",
       " 'a+_a': 90,\n",
       " 'a+_a_a_a': 60,\n",
       " 'a+_a_a_a_a_a': 6,\n",
       " '': 15,\n",
       " 'a_a': 45,\n",
       " 'a_a_a_a': 15,\n",
       " 'a_a_a_a_a_a': 1}"
      ]
     },
     "execution_count": 46,
     "metadata": {},
     "output_type": "execute_result"
    }
   ],
   "source": [
    "x6.expr_dict"
   ]
  },
  {
   "cell_type": "code",
   "execution_count": 9,
   "id": "b4730b6b",
   "metadata": {},
   "outputs": [
    {
     "data": {
      "text/plain": [
       "{'a+_a+_a+_a+': 1,\n",
       " 'a+_a+_a+_a': 4,\n",
       " 'a+_a+': 6,\n",
       " 'a+_a+_a_a': 6,\n",
       " 'a+_a': 12,\n",
       " 'a+_a_a_a': 4,\n",
       " '': 3,\n",
       " 'a_a': 6,\n",
       " 'a_a_a_a': 1}"
      ]
     },
     "execution_count": 9,
     "metadata": {},
     "output_type": "execute_result"
    }
   ],
   "source": [
    "x4.expr_dict"
   ]
  },
  {
   "cell_type": "code",
   "execution_count": 21,
   "id": "7fdf1a39",
   "metadata": {},
   "outputs": [
    {
     "data": {
      "text/plain": [
       "{'a+_a+_a+_a+_a+_a+': 1,\n",
       " 'a+_a+_a+_a+_a+_a': 6,\n",
       " 'a+_a+_a+_a+': 15,\n",
       " 'a+_a+_a+_a+_a_a': 15,\n",
       " 'a+_a+_a+_a': 60,\n",
       " 'a+_a+_a+_a_a_a': 20,\n",
       " 'a+_a+': (44+0j),\n",
       " 'a+_a+_a_a': 90,\n",
       " 'a+_a+_a_a_a_a': 15,\n",
       " 'a+_a': (92+0j),\n",
       " 'a+_a_a_a': 60,\n",
       " 'a+_a_a_a_a_a': 6,\n",
       " '': (16+0j),\n",
       " 'a_a': (44+0j),\n",
       " 'a_a_a_a': 15,\n",
       " 'a_a_a_a_a_a': 1}"
      ]
     },
     "execution_count": 21,
     "metadata": {},
     "output_type": "execute_result"
    }
   ],
   "source": [
    "add(x6,p2).expr_dict"
   ]
  },
  {
   "cell_type": "code",
   "execution_count": 6,
   "id": "e3f32cf4",
   "metadata": {},
   "outputs": [
    {
     "data": {
      "text/plain": [
       "{'a+_a+': (-1+0j), 'a+_a': (2+0j), '': (1+0j), 'a_a': (-1-0j)}"
      ]
     },
     "execution_count": 6,
     "metadata": {},
     "output_type": "execute_result"
    }
   ],
   "source": [
    "p2.expr_dict"
   ]
  },
  {
   "cell_type": "code",
   "execution_count": 13,
   "id": "311ad77e",
   "metadata": {},
   "outputs": [
    {
     "data": {
      "text/plain": [
       "{'a+_a+_a+_a+': 1,\n",
       " 'a+_a+_a+_a': 4,\n",
       " 'a+_a+': (5+0j),\n",
       " 'a+_a+_a_a': 6,\n",
       " 'a+_a': (14+0j),\n",
       " 'a+_a_a_a': 4,\n",
       " '': (4+0j),\n",
       " 'a_a': (5+0j),\n",
       " 'a_a_a_a': 1}"
      ]
     },
     "execution_count": 13,
     "metadata": {},
     "output_type": "execute_result"
    }
   ],
   "source": [
    "add(x4, p2).expr_dict"
   ]
  },
  {
   "cell_type": "code",
   "execution_count": 5,
   "id": "77346e29",
   "metadata": {},
   "outputs": [
    {
     "data": {
      "text/plain": [
       "{'a+_a+': 0j, 'a+_a': (4+0j), '': (2+0j), 'a_a': 0j}"
      ]
     },
     "execution_count": 5,
     "metadata": {},
     "output_type": "execute_result"
    }
   ],
   "source": [
    "add(x2, p2).expr_dict"
   ]
  },
  {
   "cell_type": "code",
   "execution_count": 18,
   "id": "7ef17a84",
   "metadata": {},
   "outputs": [],
   "source": [
    "test = Expression(\"a(+)a+a+\")"
   ]
  },
  {
   "cell_type": "code",
   "execution_count": null,
   "id": "7034a051",
   "metadata": {},
   "outputs": [],
   "source": []
  }
 ],
 "metadata": {
  "kernelspec": {
   "display_name": "experiment",
   "language": "python",
   "name": "python3"
  },
  "language_info": {
   "codemirror_mode": {
    "name": "ipython",
    "version": 3
   },
   "file_extension": ".py",
   "mimetype": "text/x-python",
   "name": "python",
   "nbconvert_exporter": "python",
   "pygments_lexer": "ipython3",
   "version": "3.13.3"
  }
 },
 "nbformat": 4,
 "nbformat_minor": 5
}
