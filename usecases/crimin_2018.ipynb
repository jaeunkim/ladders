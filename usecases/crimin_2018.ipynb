{
 "cells": [
  {
   "cell_type": "code",
   "execution_count": 1,
   "id": "3702e255",
   "metadata": {},
   "outputs": [],
   "source": [
    "from ladders import Expression\n",
    "from ladders import add, power, compare_expr, scalar_multiply\n",
    "from ladders import print_nonzero_terms, print_kerr\n",
    "import numpy as np"
   ]
  },
  {
   "cell_type": "code",
   "execution_count": 2,
   "id": "ba9cd38e",
   "metadata": {},
   "outputs": [],
   "source": [
    "import sympy as sp\n",
    "\n",
    "wz = sp.symbols('wz', real=True)\n",
    "wc = sp.symbols('wc', real=True)\n",
    "w1 = (wc**2-2*(wz**2))**0.5\n",
    "hbar = sp.symbols('hbar', real=True, positive=True)\n",
    "m = sp.symbols('m', real=True, positive=True)"
   ]
  },
  {
   "cell_type": "code",
   "execution_count": 3,
   "id": "6549b02d",
   "metadata": {},
   "outputs": [
    {
     "data": {
      "text/latex": [
       "$\\displaystyle \\left(wc^{2} - 2 wz^{2}\\right)^{0.5}$"
      ],
      "text/plain": [
       "(wc**2 - 2*wz**2)**0.5"
      ]
     },
     "execution_count": 3,
     "metadata": {},
     "output_type": "execute_result"
    }
   ],
   "source": [
    "w1"
   ]
  },
  {
   "cell_type": "markdown",
   "id": "f875005f",
   "metadata": {},
   "source": [
    "Quantum theory of the Penning Trap, Crimin, Verdu, 2018"
   ]
  },
  {
   "cell_type": "code",
   "execution_count": 4,
   "id": "98e3c03c",
   "metadata": {},
   "outputs": [
    {
     "name": "stdout",
     "output_type": "stream",
     "text": [
      "Hamiltonian:\n",
      "Non-zero terms:\n",
      "x+_x : \t hbar*(wc**2 - 2*wz**2)**0.5/2\n",
      "constant: \t 0.5*hbar*wz + 0.5*hbar*(wc**2 - 2*wz**2)**0.5\n",
      "y+_y : \t hbar*(wc**2 - 2*wz**2)**0.5/2\n",
      "z+_z : \t hbar*wz\n",
      "x+_y : \t -0.5*I*hbar*wc\n",
      "y+_x : \t 0.5*I*hbar*wc\n"
     ]
    }
   ],
   "source": [
    "#quantum Hamiltonian NOT in rotating frame\n",
    "x_sho = scalar_multiply(Expression(\"x+_x(+)0.5\"), (w1/2) * hbar)\n",
    "y_sho = scalar_multiply(Expression(\"y+_y(+)0.5\"), (w1/2) * hbar)\n",
    "z_sho = scalar_multiply(Expression(\"z+_z(+)0.5\"), wz * hbar)\n",
    "angular_momentum = scalar_multiply(Expression(\"-1jx+_y(+)1jy+_x\"), (wc/2)*hbar)\n",
    "H = add(add(x_sho, y_sho), add(z_sho, angular_momentum))\n",
    "print(\"Hamiltonian:\")\n",
    "print_nonzero_terms(H)"
   ]
  },
  {
   "cell_type": "code",
   "execution_count": null,
   "id": "bba94694",
   "metadata": {},
   "outputs": [],
   "source": [
    "#quantization of the classical Hamiltnonian NOT in rotating frame\n",
    "x = scalar_multiply(Expression(\"x(+)x+\"), (hbar/(m*w1))**0.5)\n",
    "y = scalar_multiply(Expression(\"y(+)y+\"), (hbar/(m*w1))**0.5)\n",
    "z = scalar_multiply(Expression(\"z(+)z+\"), (hbar/(2*m))**0.5 * wz**-0.5)\n",
    "\n",
    "p_x = scalar_multiply(Expression(\"x(+)-1x+\"), -0.5j*((w1*hbar*m)**0.5))\n",
    "p_y = scalar_multiply(Expression(\"y(+)-1y+\"), -0.5j*((w1*hbar*m)**0.5))\n",
    "p_z = scalar_multiply(Expression(\"z(+)-1z+\"), -0.5j*((2*wz*hbar*m)**0.5))"
   ]
  },
  {
   "cell_type": "code",
   "execution_count": 6,
   "id": "abc10651",
   "metadata": {},
   "outputs": [],
   "source": [
    "radial_kinetic_energy = scalar_multiply(p_x*p_x + p_y*p_y, 1/(2*m))    \n",
    "axial_kinetic_energy = scalar_multiply(p_z*p_z, 1/(2*m))\n",
    "\n",
    "radial_potential_energy = scalar_multiply(x*x, 0.5*m*((0.5*w1)**2)) + \\\n",
    "                   scalar_multiply(y*y, 0.5*m*((0.5*w1)**2))\n",
    "axial_potential_energy = scalar_multiply(z*z, 0.5*m*(wz**2))\n",
    "\n",
    "lorentz_term = scalar_multiply((x*p_y - y*p_x), (wc/2))"
   ]
  },
  {
   "cell_type": "code",
   "execution_count": 7,
   "id": "5a501fba",
   "metadata": {},
   "outputs": [
    {
     "data": {
      "text/plain": [
       "{'z_z': -0.5*hbar**1.0*m**1.0*wz**1.0,\n",
       " 'z+_z': 1.0*hbar**1.0*m**1.0*wz**1.0,\n",
       " '': 0.5*hbar**1.0*m**1.0*wz**1.0,\n",
       " 'z+_z+': -0.5*hbar**1.0*m**1.0*wz**1.0}"
      ]
     },
     "execution_count": 7,
     "metadata": {},
     "output_type": "execute_result"
    }
   ],
   "source": [
    "(p_z*p_z).expr_dict"
   ]
  },
  {
   "cell_type": "code",
   "execution_count": 8,
   "id": "37f2938e",
   "metadata": {},
   "outputs": [
    {
     "data": {
      "text/plain": [
       "{'z_z': 0.5*hbar**1.0/(m**1.0*wz**1.0),\n",
       " 'z+_z': 1.0*hbar**1.0/(m**1.0*wz**1.0),\n",
       " '': 0.5*hbar**1.0/(m**1.0*wz**1.0),\n",
       " 'z+_z+': 0.5*hbar**1.0/(m**1.0*wz**1.0)}"
      ]
     },
     "execution_count": 8,
     "metadata": {},
     "output_type": "execute_result"
    }
   ],
   "source": [
    "(z*z).expr_dict"
   ]
  },
  {
   "cell_type": "code",
   "execution_count": 9,
   "id": "24c4748d",
   "metadata": {},
   "outputs": [
    {
     "name": "stdout",
     "output_type": "stream",
     "text": [
      "Non-zero terms:\n",
      "x+_x : \t 0.5*hbar**1.0*(wc**2 - 2*wz**2)**0.5\n",
      "constant: \t 0.5*hbar**1.0*(wc**2 - 2*wz**2)**0.5\n",
      "y+_y : \t 0.5*hbar**1.0*(wc**2 - 2*wz**2)**0.5\n"
     ]
    }
   ],
   "source": [
    "print_nonzero_terms(radial_kinetic_energy + radial_potential_energy)"
   ]
  },
  {
   "cell_type": "code",
   "execution_count": 10,
   "id": "b09ce7dd",
   "metadata": {},
   "outputs": [
    {
     "data": {
      "text/plain": [
       "{'z_z': -0.25*hbar**1.0*wz**1.0,\n",
       " 'z+_z': 0.5*hbar**1.0*wz**1.0,\n",
       " '': 0.25*hbar**1.0*wz**1.0,\n",
       " 'z+_z+': -0.25*hbar**1.0*wz**1.0}"
      ]
     },
     "execution_count": 10,
     "metadata": {},
     "output_type": "execute_result"
    }
   ],
   "source": [
    "axial_kinetic_energy.expr_dict"
   ]
  },
  {
   "cell_type": "code",
   "execution_count": 11,
   "id": "46b2e60b",
   "metadata": {},
   "outputs": [
    {
     "data": {
      "text/plain": [
       "{'z_z': 0.25*hbar**1.0*wz**1.0,\n",
       " 'z+_z': 0.5*hbar**1.0*wz**1.0,\n",
       " '': 0.25*hbar**1.0*wz**1.0,\n",
       " 'z+_z+': 0.25*hbar**1.0*wz**1.0}"
      ]
     },
     "execution_count": 11,
     "metadata": {},
     "output_type": "execute_result"
    }
   ],
   "source": [
    "axial_potential_energy.expr_dict"
   ]
  },
  {
   "cell_type": "code",
   "execution_count": 12,
   "id": "21bc36f3",
   "metadata": {},
   "outputs": [
    {
     "name": "stdout",
     "output_type": "stream",
     "text": [
      "Non-zero terms:\n",
      "z+_z : \t 1.0*hbar**1.0*wz**1.0\n",
      "constant: \t 0.5*hbar**1.0*wz**1.0\n"
     ]
    }
   ],
   "source": [
    "print_nonzero_terms(axial_kinetic_energy + axial_potential_energy)"
   ]
  },
  {
   "cell_type": "code",
   "execution_count": 13,
   "id": "0b21cb10",
   "metadata": {},
   "outputs": [
    {
     "name": "stdout",
     "output_type": "stream",
     "text": [
      "Non-zero terms:\n",
      "x_y+ : \t 0.5*I*hbar**1.0*wc\n",
      "x+_y : \t -0.5*I*hbar**1.0*wc\n"
     ]
    }
   ],
   "source": [
    "print_nonzero_terms(lorentz_term)"
   ]
  },
  {
   "cell_type": "code",
   "execution_count": 14,
   "id": "aca45675",
   "metadata": {},
   "outputs": [
    {
     "name": "stdout",
     "output_type": "stream",
     "text": [
      "Quantized Hamiltonian:\n",
      "Non-zero terms:\n",
      "x+_x : \t 0.5*hbar**1.0*(wc**2 - 2*wz**2)**0.5\n",
      "constant: \t 0.5*hbar**1.0*wz**1.0 + 0.5*hbar**1.0*(wc**2 - 2*wz**2)**0.5\n",
      "y+_y : \t 0.5*hbar**1.0*(wc**2 - 2*wz**2)**0.5\n",
      "z+_z : \t 1.0*hbar**1.0*wz**1.0\n",
      "x_y+ : \t 0.5*I*hbar**1.0*wc\n",
      "x+_y : \t -0.5*I*hbar**1.0*wc\n"
     ]
    }
   ],
   "source": [
    "H1 =  radial_kinetic_energy + axial_kinetic_energy \\\n",
    "    + radial_potential_energy + axial_potential_energy \\\n",
    "    + lorentz_term\n",
    "print(\"Quantized Hamiltonian:\")\n",
    "print_nonzero_terms(H1)"
   ]
  },
  {
   "cell_type": "code",
   "execution_count": 15,
   "id": "ca9d855c",
   "metadata": {},
   "outputs": [],
   "source": [
    "# # try to access the latex printing of sympy, but doesn't work now\n",
    "# def pretty_print_nonzero_terms(expr):\n",
    "#     string = \"\"\n",
    "#     for key, value in expr.expr_dict.items():\n",
    "#         if value != 0:\n",
    "#             string += f\"{value} * {key}\"\n",
    "#             string += \"\\n+\"\n",
    "#             print(value , \"*\", key)\n",
    "#             print(value)\n",
    "#             print(type(value), type(key))\n",
    "#     # print(string[:-2])  # remove the last '+'\n"
   ]
  },
  {
   "cell_type": "code",
   "execution_count": 16,
   "id": "1dc0c9c7",
   "metadata": {},
   "outputs": [],
   "source": [
    "a_x = scalar_multiply(Expression(\"c(+)jm\"), 1/np.sqrt(2))\n",
    "a_y = scalar_multiply(Expression(\"jc(+)m\"), 1/np.sqrt(2))\n",
    "a_x_dag = scalar_multiply(Expression(\"c+(+)-jm+\"), 1/np.sqrt(2))\n",
    "a_y_dag = scalar_multiply(Expression(\"-jc+(+)m+\"), 1/np.sqrt(2))"
   ]
  },
  {
   "cell_type": "code",
   "execution_count": 17,
   "id": "a02eabbf",
   "metadata": {},
   "outputs": [
    {
     "data": {
      "text/plain": [
       "{'c': 0.7071067811865475j, 'm': np.float64(0.7071067811865475)}"
      ]
     },
     "execution_count": 17,
     "metadata": {},
     "output_type": "execute_result"
    }
   ],
   "source": [
    "a_x.expr_dict\n",
    "a_y.expr_dict"
   ]
  },
  {
   "cell_type": "code",
   "execution_count": 18,
   "id": "4f0f0495",
   "metadata": {},
   "outputs": [],
   "source": [
    "x = scalar_multiply(a_x + a_x_dag, (hbar/(m*w1))**0.5)\n",
    "y = scalar_multiply(a_y + a_y_dag, (hbar/(m*w1))**0.5)\n",
    "z = scalar_multiply(Expression(\"z(+)z+\"), (hbar/(2*m))**0.5 * wz**-0.5)\n",
    "\n",
    "p_x = scalar_multiply(a_x - a_x_dag, -0.5j*((w1*hbar*m)**0.5))\n",
    "p_y = scalar_multiply(a_y - a_y_dag, -0.5j*((w1*hbar*m)**0.5))\n",
    "p_z = scalar_multiply(Expression(\"z(+)-1z+\"), -0.5j*((2*wz*hbar*m)**0.5))"
   ]
  },
  {
   "cell_type": "code",
   "execution_count": 19,
   "id": "65ae9d65",
   "metadata": {},
   "outputs": [],
   "source": [
    "radial_kinetic_energy = scalar_multiply(p_x*p_x + p_y*p_y, 1/(2*m))    \n",
    "axial_kinetic_energy = scalar_multiply(p_z*p_z, 1/(2*m))\n",
    "\n",
    "radial_potential_energy = scalar_multiply(x*x, 0.5*m*((0.5*w1)**2)) + \\\n",
    "                   scalar_multiply(y*y, 0.5*m*((0.5*w1)**2))\n",
    "axial_potential_energy = scalar_multiply(z*z, 0.5*m*(wz**2))\n",
    "\n",
    "lorentz_term = scalar_multiply((x*p_y - y*p_x), (wc/2))"
   ]
  },
  {
   "cell_type": "code",
   "execution_count": 20,
   "id": "61d87e06",
   "metadata": {},
   "outputs": [
    {
     "name": "stdout",
     "output_type": "stream",
     "text": [
      "Quantized Hamiltonian:\n",
      "Non-zero terms:\n",
      "c+_c : \t 0.5*hbar**1.0*wc + 0.5*hbar**1.0*(wc**2 - 2*wz**2)**0.5\n",
      "constant: \t 0.5*hbar**1.0*wz**1.0 + 0.5*hbar**1.0*(wc**2 - 2*wz**2)**0.5\n",
      "m+_m : \t -0.5*hbar**1.0*wc + 0.5*hbar**1.0*(wc**2 - 2*wz**2)**0.5\n",
      "z+_z : \t 1.0*hbar**1.0*wz**1.0\n"
     ]
    }
   ],
   "source": [
    "H1 =  radial_kinetic_energy + axial_kinetic_energy \\\n",
    "    + radial_potential_energy + axial_potential_energy \\\n",
    "    + lorentz_term\n",
    "print(\"Quantized Hamiltonian:\")\n",
    "print_nonzero_terms(H1)"
   ]
  },
  {
   "cell_type": "code",
   "execution_count": 21,
   "id": "ce85bb7a",
   "metadata": {},
   "outputs": [
    {
     "name": "stdout",
     "output_type": "stream",
     "text": [
      "10176101082.7303\n",
      "-7603898917.26972\n"
     ]
    }
   ],
   "source": [
    "hb = 1.054571817 * 10**-34\n",
    "consts = {hbar:1.054571817 * 10**-34, \n",
    "        m: 9.109382 * 10**-31, \n",
    "        wz: 1.24401*10**10, \n",
    "        wc: 1.778*10**10}\n",
    "print(H1.expr_dict[\"c+_c\"].subs(consts) / hb) \n",
    "print(H1.expr_dict[\"m+_m\"].subs(consts) / hb) "
   ]
  },
  {
   "cell_type": "code",
   "execution_count": 22,
   "id": "82ca3feb",
   "metadata": {},
   "outputs": [],
   "source": [
    "# x is axial direction\n",
    "# 4.86798 + 0.000439941 x^2 - 8.80014*10^-19 x^4 - 7.53989*10^-12 x^6 +  6.93708*10^-14 x^8\n",
    "axial_anharmonicity = scalar_multiply(power(z, 4), 0.5*m*(wz**2) * (- 8.80014*(10**-19) / 0.000439941) * (10**12))\n",
    "axial_anharmonicity += scalar_multiply(power(z, 6), 0.5*m*(wz**2) * (- 7.53989*(10**-12) / 0.000439941) * (10**24))\n",
    "axial_anharmonicity += scalar_multiply(power(z, 8), 0.5*m*(wz**2) * ( 6.93708*(10**-14) / 0.000439941) * (10**48))\n",
    "\n",
    "# radial direction\n",
    "# -0.00021997 * y^2 -1.68288*10^-19 * y^4  -0.00021997 z^2 + -1.8527*10^-8 z^4 \n",
    "# -5.5581*10^-8 x^2 y^2 +5.5581*10^-8 x^2 z^2\n",
    "\n",
    "radial_anharmonicity = scalar_multiply(power(x, 4), 0.5*m*(wz**2)/2 * (- 1.68288*(10**-19) / -0.00021997) * (10**12))\n",
    "radial_anharmonicity += scalar_multiply(power(y, 4), 0.5*m*(wz**2)/2 * (- 1.8527*(10**-8) / -0.00021997) * (10**12))\n",
    "radial_anharmonicity += scalar_multiply(x*x*y*y, 0.5*m*(wz**2)/2 * (-5.5581*(10**-8) / -0.00021997) * (10**12))\n",
    "radial_anharmonicity += scalar_multiply(x*x*z*z, 0.5*m*(wz**2)/2 * (5.5581*(10**-8) / -0.00021997) * (10**12))"
   ]
  },
  {
   "cell_type": "code",
   "execution_count": 23,
   "id": "4c08fe5f",
   "metadata": {},
   "outputs": [
    {
     "name": "stdout",
     "output_type": "stream",
     "text": [
      "Quantized Hamiltonian with anharmonicity:\n",
      "Non-zero terms:\n",
      "c_c : \t -15792210.3014047*hbar**2.0*wz**1.0/(m**1.0*(wc**2 - 2*wz**2)**0.5) - 63168841.2050451*hbar**2.0*wz**2/(m**1.0*(wc**2 - 2*wz**2)**1.0)\n",
      "c_m : \t -31584420.6028095*I*hbar**2.0*wz**1.0/(m**1.0*(wc**2 - 2*wz**2)**0.5) + 252675364.823623*I*hbar**2.0*wz**2/(m**1.0*(wc**2 - 2*wz**2)**1.0)\n",
      "c+_c : \t 0.5*hbar**1.0*wc + 0.5*hbar**1.0*(wc**2 - 2*wz**2)**0.5 - 31584420.6028095*hbar**2.0*wz**1.0/(m**1.0*(wc**2 - 2*wz**2)**0.5) + 252675364.823623*hbar**2.0*wz**2/(m**1.0*(wc**2 - 2*wz**2)**1.0)\n",
      "constant: \t 0.5*hbar**1.0*wz**1.0 + 0.5*hbar**1.0*(wc**2 - 2*wz**2)**0.5 - 31584420.6028095*hbar**2.0*wz**1.0/(m**1.0*(wc**2 - 2*wz**2)**0.5) + 126337682.411812*hbar**2.0*wz**2/(m**1.0*(wc**2 - 2*wz**2)**1.0) - 0.00075011251508725*hbar**2.0/m**1.0 - 1.6067261007726e+16*hbar**3.0/(m**2.0*wz**1.0) + 5.17394235817985e+38*hbar**4.0/(m**3.0*wz**2.0)\n",
      "c_m+ : \t 31584420.6028095*I*hbar**2.0*wz**1.0/(m**1.0*(wc**2 - 2*wz**2)**0.5) + 126337682.41009*I*hbar**2.0*wz**2/(m**1.0*(wc**2 - 2*wz**2)**1.0)\n",
      "m_m : \t 15792210.3014047*hbar**2.0*wz**1.0/(m**1.0*(wc**2 - 2*wz**2)**0.5) + 63168841.2050451*hbar**2.0*wz**2/(m**1.0*(wc**2 - 2*wz**2)**1.0)\n",
      "c+_m : \t -31584420.6028095*I*hbar**2.0*wz**1.0/(m**1.0*(wc**2 - 2*wz**2)**0.5) - 126337682.41009*I*hbar**2.0*wz**2/(m**1.0*(wc**2 - 2*wz**2)**1.0)\n",
      "m+_m : \t -0.5*hbar**1.0*wc + 0.5*hbar**1.0*(wc**2 - 2*wz**2)**0.5 - 31584420.6028095*hbar**2.0*wz**1.0/(m**1.0*(wc**2 - 2*wz**2)**0.5) + 252675364.823623*hbar**2.0*wz**2/(m**1.0*(wc**2 - 2*wz**2)**1.0)\n",
      "c+_c+ : \t -15792210.3014047*hbar**2.0*wz**1.0/(m**1.0*(wc**2 - 2*wz**2)**0.5) - 63168841.2050451*hbar**2.0*wz**2/(m**1.0*(wc**2 - 2*wz**2)**1.0)\n",
      "c+_m+ : \t 31584420.6028095*I*hbar**2.0*wz**1.0/(m**1.0*(wc**2 - 2*wz**2)**0.5) - 252675364.823623*I*hbar**2.0*wz**2/(m**1.0*(wc**2 - 2*wz**2)**1.0)\n",
      "m+_m+ : \t 15792210.3014047*hbar**2.0*wz**1.0/(m**1.0*(wc**2 - 2*wz**2)**0.5) + 63168841.2050451*hbar**2.0*wz**2/(m**1.0*(wc**2 - 2*wz**2)**1.0)\n",
      "z_z : \t -31584420.6028095*hbar**2.0*wz**1.0/(m**1.0*(wc**2 - 2*wz**2)**0.5) - 0.0015002250301745*hbar**2.0/m**1.0 - 4.82017830231781e+16*hbar**3.0/(m**2.0*wz**1.0) + 2.06957694327194e+39*hbar**4.0/(m**3.0*wz**2.0)\n",
      "z+_z : \t 1.0*hbar**1.0*wz**1.0 - 63168841.2056189*hbar**2.0*wz**1.0/(m**1.0*(wc**2 - 2*wz**2)**0.5) - 0.003000450060349*hbar**2.0/m**1.0 - 9.64035660463563e+16*hbar**3.0/(m**2.0*wz**1.0) + 4.13915388654388e+39*hbar**4.0/(m**3.0*wz**2.0)\n",
      "z+_z+ : \t -31584420.6028095*hbar**2.0*wz**1.0/(m**1.0*(wc**2 - 2*wz**2)**0.5) - 0.0015002250301745*hbar**2.0/m**1.0 - 4.82017830231781e+16*hbar**3.0/(m**2.0*wz**1.0) + 2.06957694327194e+39*hbar**4.0/(m**3.0*wz**2.0)\n",
      "z_z_z_z : \t -0.000250037505029083*hbar**2.0/m**1.0 - 1.6067261007726e+16*hbar**3.0/(m**2.0*wz**1.0) + 1.03478847163597e+39*hbar**4.0/(m**3.0*wz**2.0)\n",
      "z+_z_z_z : \t -0.00100015002011633*hbar**2.0/m**1.0 - 6.42690440309042e+16*hbar**3.0/(m**2.0*wz**1.0) + 4.13915388654388e+39*hbar**4.0/(m**3.0*wz**2.0)\n",
      "z+_z+_z_z : \t -0.0015002250301745*hbar**2.0/m**1.0 - 9.64035660463562e+16*hbar**3.0/(m**2.0*wz**1.0) + 6.20873082981582e+39*hbar**4.0/(m**3.0*wz**2.0)\n",
      "z+_z+_z+_z : \t -0.00100015002011633*hbar**2.0/m**1.0 - 6.42690440309042e+16*hbar**3.0/(m**2.0*wz**1.0) + 4.13915388654388e+39*hbar**4.0/(m**3.0*wz**2.0)\n",
      "z+_z+_z+_z+ : \t -0.000250037505029083*hbar**2.0/m**1.0 - 1.6067261007726e+16*hbar**3.0/(m**2.0*wz**1.0) + 1.03478847163597e+39*hbar**4.0/(m**3.0*wz**2.0)\n",
      "z_z_z_z_z_z : \t -1.0711507338484e+15*hbar**3.0/(m**2.0*wz**1.0) + 1.37971796218129e+38*hbar**4.0/(m**3.0*wz**2.0)\n",
      "z+_z_z_z_z_z : \t -6.42690440309042e+15*hbar**3.0/(m**2.0*wz**1.0) + 8.27830777308776e+38*hbar**4.0/(m**3.0*wz**2.0)\n",
      "z+_z+_z_z_z_z : \t -1.6067261007726e+16*hbar**3.0/(m**2.0*wz**1.0) + 2.06957694327194e+39*hbar**4.0/(m**3.0*wz**2.0)\n",
      "z+_z+_z+_z_z_z : \t -2.14230146769681e+16*hbar**3.0/(m**2.0*wz**1.0) + 2.75943592436259e+39*hbar**4.0/(m**3.0*wz**2.0)\n",
      "z+_z+_z+_z+_z_z : \t -1.6067261007726e+16*hbar**3.0/(m**2.0*wz**1.0) + 2.06957694327194e+39*hbar**4.0/(m**3.0*wz**2.0)\n",
      "z+_z+_z+_z+_z+_z : \t -6.42690440309042e+15*hbar**3.0/(m**2.0*wz**1.0) + 8.27830777308776e+38*hbar**4.0/(m**3.0*wz**2.0)\n",
      "z+_z+_z+_z+_z+_z+ : \t -1.0711507338484e+15*hbar**3.0/(m**2.0*wz**1.0) + 1.37971796218129e+38*hbar**4.0/(m**3.0*wz**2.0)\n",
      "z_z_z_z_z_z_z_z : \t 4.92756415064747e+36*hbar**4.0/(m**3.0*wz**2.0)\n",
      "z+_z_z_z_z_z_z_z : \t 3.94205132051798e+37*hbar**4.0/(m**3.0*wz**2.0)\n",
      "z+_z+_z_z_z_z_z_z : \t 1.37971796218129e+38*hbar**4.0/(m**3.0*wz**2.0)\n",
      "z+_z+_z+_z_z_z_z_z : \t 2.75943592436259e+38*hbar**4.0/(m**3.0*wz**2.0)\n",
      "z+_z+_z+_z+_z_z_z_z : \t 3.44929490545323e+38*hbar**4.0/(m**3.0*wz**2.0)\n",
      "z+_z+_z+_z+_z+_z_z_z : \t 2.75943592436259e+38*hbar**4.0/(m**3.0*wz**2.0)\n",
      "z+_z+_z+_z+_z+_z+_z_z : \t 1.37971796218129e+38*hbar**4.0/(m**3.0*wz**2.0)\n",
      "z+_z+_z+_z+_z+_z+_z+_z : \t 3.94205132051798e+37*hbar**4.0/(m**3.0*wz**2.0)\n",
      "z+_z+_z+_z+_z+_z+_z+_z+ : \t 4.92756415064747e+36*hbar**4.0/(m**3.0*wz**2.0)\n",
      "c_c_c_c : \t -10528140.2008887*hbar**2.0*wz**2/(m**1.0*(wc**2 - 2*wz**2)**1.0)\n",
      "c_c_c_m : \t -21056280.4016817*I*hbar**2.0*wz**2/(m**1.0*(wc**2 - 2*wz**2)**1.0)\n",
      "c+_c_c_c : \t -21056280.4016817*hbar**2.0*wz**2/(m**1.0*(wc**2 - 2*wz**2)**1.0)\n",
      "c_c_c_m+ : \t 42112560.8035547*I*hbar**2.0*wz**2/(m**1.0*(wc**2 - 2*wz**2)**1.0)\n",
      "c_c_m_m : \t -63168841.2059058*hbar**2.0*wz**2/(m**1.0*(wc**2 - 2*wz**2)**1.0)\n",
      "c+_c_c_m : \t 126337682.411812*I*hbar**2.0*wz**2/(m**1.0*(wc**2 - 2*wz**2)**1.0)\n",
      "c_c_m+_m : \t -63168841.2050451*hbar**2.0*wz**2/(m**1.0*(wc**2 - 2*wz**2)**1.0)\n",
      "c+_c+_c_c : \t 63168841.2059058*hbar**2.0*wz**2/(m**1.0*(wc**2 - 2*wz**2)**1.0)\n",
      "c+_c_c_m+ : \t 63168841.2050451*I*hbar**2.0*wz**2/(m**1.0*(wc**2 - 2*wz**2)**1.0)\n",
      "c_c_m+_m+ : \t 63168841.205332*hbar**2.0*wz**2/(m**1.0*(wc**2 - 2*wz**2)**1.0)\n",
      "c_m_m_m : \t 21056280.4016817*I*hbar**2.0*wz**2/(m**1.0*(wc**2 - 2*wz**2)**1.0)\n",
      "c+_c_m_m : \t 63168841.2050451*hbar**2.0*wz**2/(m**1.0*(wc**2 - 2*wz**2)**1.0)\n",
      "c_m+_m_m : \t 126337682.411812*I*hbar**2.0*wz**2/(m**1.0*(wc**2 - 2*wz**2)**1.0)\n",
      "c+_c+_c_m : \t -63168841.2050451*I*hbar**2.0*wz**2/(m**1.0*(wc**2 - 2*wz**2)**1.0)\n",
      "c+_c_m+_m : \t 252675364.823623*hbar**2.0*wz**2/(m**1.0*(wc**2 - 2*wz**2)**1.0)\n",
      "c_m+_m+_m : \t 63168841.2050451*I*hbar**2.0*wz**2/(m**1.0*(wc**2 - 2*wz**2)**1.0)\n",
      "c+_c+_c+_c : \t -21056280.4016817*hbar**2.0*wz**2/(m**1.0*(wc**2 - 2*wz**2)**1.0)\n",
      "c+_c+_c_m+ : \t -126337682.411812*I*hbar**2.0*wz**2/(m**1.0*(wc**2 - 2*wz**2)**1.0)\n",
      "c+_c_m+_m+ : \t 63168841.2050451*hbar**2.0*wz**2/(m**1.0*(wc**2 - 2*wz**2)**1.0)\n",
      "c_m+_m+_m+ : \t -42112560.8035547*I*hbar**2.0*wz**2/(m**1.0*(wc**2 - 2*wz**2)**1.0)\n",
      "m_m_m_m : \t -10528140.2008887*hbar**2.0*wz**2/(m**1.0*(wc**2 - 2*wz**2)**1.0)\n",
      "c+_m_m_m : \t 42112560.8035547*I*hbar**2.0*wz**2/(m**1.0*(wc**2 - 2*wz**2)**1.0)\n",
      "m+_m_m_m : \t 21056280.4016817*hbar**2.0*wz**2/(m**1.0*(wc**2 - 2*wz**2)**1.0)\n",
      "c+_c+_m_m : \t 63168841.205332*hbar**2.0*wz**2/(m**1.0*(wc**2 - 2*wz**2)**1.0)\n",
      "c+_m+_m_m : \t -63168841.2050451*I*hbar**2.0*wz**2/(m**1.0*(wc**2 - 2*wz**2)**1.0)\n",
      "m+_m+_m_m : \t 63168841.2059058*hbar**2.0*wz**2/(m**1.0*(wc**2 - 2*wz**2)**1.0)\n",
      "c+_c+_c+_m : \t -42112560.8035547*I*hbar**2.0*wz**2/(m**1.0*(wc**2 - 2*wz**2)**1.0)\n",
      "c+_c+_m+_m : \t -63168841.2050451*hbar**2.0*wz**2/(m**1.0*(wc**2 - 2*wz**2)**1.0)\n",
      "c+_m+_m+_m : \t -126337682.411812*I*hbar**2.0*wz**2/(m**1.0*(wc**2 - 2*wz**2)**1.0)\n",
      "m+_m+_m+_m : \t 21056280.4016817*hbar**2.0*wz**2/(m**1.0*(wc**2 - 2*wz**2)**1.0)\n",
      "c+_c+_c+_c+ : \t -10528140.2008887*hbar**2.0*wz**2/(m**1.0*(wc**2 - 2*wz**2)**1.0)\n",
      "c+_c+_c+_m+ : \t 21056280.4016817*I*hbar**2.0*wz**2/(m**1.0*(wc**2 - 2*wz**2)**1.0)\n",
      "c+_c+_m+_m+ : \t -63168841.2059058*hbar**2.0*wz**2/(m**1.0*(wc**2 - 2*wz**2)**1.0)\n",
      "c+_m+_m+_m+ : \t -21056280.4016817*I*hbar**2.0*wz**2/(m**1.0*(wc**2 - 2*wz**2)**1.0)\n",
      "m+_m+_m+_m+ : \t -10528140.2008887*hbar**2.0*wz**2/(m**1.0*(wc**2 - 2*wz**2)**1.0)\n",
      "c_c_z_z : \t -15792210.3014047*hbar**2.0*wz**1.0/(m**1.0*(wc**2 - 2*wz**2)**0.5)\n",
      "c_c_z+_z : \t -31584420.6028095*hbar**2.0*wz**1.0/(m**1.0*(wc**2 - 2*wz**2)**0.5)\n",
      "c_c_z+_z+ : \t -15792210.3014047*hbar**2.0*wz**1.0/(m**1.0*(wc**2 - 2*wz**2)**0.5)\n",
      "c_m_z_z : \t -31584420.6028095*I*hbar**2.0*wz**1.0/(m**1.0*(wc**2 - 2*wz**2)**0.5)\n",
      "c_m_z+_z : \t -63168841.2056189*I*hbar**2.0*wz**1.0/(m**1.0*(wc**2 - 2*wz**2)**0.5)\n",
      "c_m_z+_z+ : \t -31584420.6028095*I*hbar**2.0*wz**1.0/(m**1.0*(wc**2 - 2*wz**2)**0.5)\n",
      "c+_c_z_z : \t -31584420.6028095*hbar**2.0*wz**1.0/(m**1.0*(wc**2 - 2*wz**2)**0.5)\n",
      "c+_c_z+_z : \t -63168841.2056189*hbar**2.0*wz**1.0/(m**1.0*(wc**2 - 2*wz**2)**0.5)\n",
      "c+_c_z+_z+ : \t -31584420.6028095*hbar**2.0*wz**1.0/(m**1.0*(wc**2 - 2*wz**2)**0.5)\n",
      "c_m+_z_z : \t 31584420.6028095*I*hbar**2.0*wz**1.0/(m**1.0*(wc**2 - 2*wz**2)**0.5)\n",
      "c_m+_z+_z : \t 63168841.2056189*I*hbar**2.0*wz**1.0/(m**1.0*(wc**2 - 2*wz**2)**0.5)\n",
      "c_m+_z+_z+ : \t 31584420.6028095*I*hbar**2.0*wz**1.0/(m**1.0*(wc**2 - 2*wz**2)**0.5)\n",
      "m_m_z_z : \t 15792210.3014047*hbar**2.0*wz**1.0/(m**1.0*(wc**2 - 2*wz**2)**0.5)\n",
      "m_m_z+_z : \t 31584420.6028095*hbar**2.0*wz**1.0/(m**1.0*(wc**2 - 2*wz**2)**0.5)\n",
      "m_m_z+_z+ : \t 15792210.3014047*hbar**2.0*wz**1.0/(m**1.0*(wc**2 - 2*wz**2)**0.5)\n",
      "c+_m_z_z : \t -31584420.6028095*I*hbar**2.0*wz**1.0/(m**1.0*(wc**2 - 2*wz**2)**0.5)\n",
      "c+_m_z+_z : \t -63168841.2056189*I*hbar**2.0*wz**1.0/(m**1.0*(wc**2 - 2*wz**2)**0.5)\n",
      "c+_m_z+_z+ : \t -31584420.6028095*I*hbar**2.0*wz**1.0/(m**1.0*(wc**2 - 2*wz**2)**0.5)\n",
      "m+_m_z_z : \t -31584420.6028095*hbar**2.0*wz**1.0/(m**1.0*(wc**2 - 2*wz**2)**0.5)\n",
      "m+_m_z+_z : \t -63168841.2056189*hbar**2.0*wz**1.0/(m**1.0*(wc**2 - 2*wz**2)**0.5)\n",
      "m+_m_z+_z+ : \t -31584420.6028095*hbar**2.0*wz**1.0/(m**1.0*(wc**2 - 2*wz**2)**0.5)\n",
      "c+_c+_z_z : \t -15792210.3014047*hbar**2.0*wz**1.0/(m**1.0*(wc**2 - 2*wz**2)**0.5)\n",
      "c+_c+_z+_z : \t -31584420.6028095*hbar**2.0*wz**1.0/(m**1.0*(wc**2 - 2*wz**2)**0.5)\n",
      "c+_c+_z+_z+ : \t -15792210.3014047*hbar**2.0*wz**1.0/(m**1.0*(wc**2 - 2*wz**2)**0.5)\n",
      "c+_m+_z_z : \t 31584420.6028095*I*hbar**2.0*wz**1.0/(m**1.0*(wc**2 - 2*wz**2)**0.5)\n",
      "c+_m+_z+_z : \t 63168841.2056189*I*hbar**2.0*wz**1.0/(m**1.0*(wc**2 - 2*wz**2)**0.5)\n",
      "c+_m+_z+_z+ : \t 31584420.6028095*I*hbar**2.0*wz**1.0/(m**1.0*(wc**2 - 2*wz**2)**0.5)\n",
      "m+_m+_z_z : \t 15792210.3014047*hbar**2.0*wz**1.0/(m**1.0*(wc**2 - 2*wz**2)**0.5)\n",
      "m+_m+_z+_z : \t 31584420.6028095*hbar**2.0*wz**1.0/(m**1.0*(wc**2 - 2*wz**2)**0.5)\n",
      "m+_m+_z+_z+ : \t 15792210.3014047*hbar**2.0*wz**1.0/(m**1.0*(wc**2 - 2*wz**2)**0.5)\n"
     ]
    }
   ],
   "source": [
    "H2 = H1 + axial_anharmonicity + radial_anharmonicity\n",
    "print(\"Quantized Hamiltonian with anharmonicity:\")\n",
    "print_nonzero_terms(H2)"
   ]
  },
  {
   "cell_type": "code",
   "execution_count": 27,
   "id": "5da9eb54",
   "metadata": {},
   "outputs": [
    {
     "name": "stdout",
     "output_type": "stream",
     "text": [
      "10176767606.0756\n",
      "-7603232393.92435\n",
      "12481562479.3951\n",
      "171051.820323715\n",
      "171051.820323715\n",
      "-35367.8718531709\n",
      "-35367.8718531709\n"
     ]
    }
   ],
   "source": [
    "hb = 1.054571817 * 10**-34\n",
    "consts = {hbar:1.054571817 * 10**-34, \n",
    "        m: 9.109382 * 10**-31, \n",
    "        wz: 1.24401*10**10, \n",
    "        wc: 1.778*10**10}\n",
    "print(H2.expr_dict[\"c+_c\"].subs(consts)/ hb)\n",
    "print(H2.expr_dict[\"m+_m\"].subs(consts)/ hb)\n",
    "print(H2.expr_dict[\"z+_z\"].subs(consts)/ hb)\n",
    "print(H2.expr_dict[\"c+_c+_c_c\"].subs(consts)/ hb)\n",
    "print(H2.expr_dict[\"m+_m+_m_m\"].subs(consts)/ hb)\n",
    "print(H2.expr_dict[\"c+_c_z+_z\"].subs(consts)/ hb)\n",
    "print(H2.expr_dict[\"m+_m_z+_z\"].subs(consts)/ hb)\n"
   ]
  },
  {
   "cell_type": "code",
   "execution_count": 25,
   "id": "c018dbc9",
   "metadata": {},
   "outputs": [
    {
     "name": "stdout",
     "output_type": "stream",
     "text": [
      "0.5*hbar**1.0*wc + 0.5*hbar**1.0*(wc**2 - 2*wz**2)**0.5 - 31584420.6028095*hbar**2.0*wz**1.0/(m**1.0*(wc**2 - 2*wz**2)**0.5) + 252675364.823623*hbar**2.0*wz**2/(m**1.0*(wc**2 - 2*wz**2)**1.0)\n",
      "-0.5*hbar**1.0*wc + 0.5*hbar**1.0*(wc**2 - 2*wz**2)**0.5 - 31584420.6028095*hbar**2.0*wz**1.0/(m**1.0*(wc**2 - 2*wz**2)**0.5) + 252675364.823623*hbar**2.0*wz**2/(m**1.0*(wc**2 - 2*wz**2)**1.0)\n",
      "63168841.2059058*hbar**2.0*wz**2/(m**1.0*(wc**2 - 2*wz**2)**1.0)\n",
      "63168841.2059058*hbar**2.0*wz**2/(m**1.0*(wc**2 - 2*wz**2)**1.0)\n",
      "-63168841.2056189*hbar**2.0*wz**1.0/(m**1.0*(wc**2 - 2*wz**2)**0.5)\n",
      "-63168841.2056189*hbar**2.0*wz**1.0/(m**1.0*(wc**2 - 2*wz**2)**0.5)\n"
     ]
    }
   ],
   "source": [
    "consts = {hbar:1.054571817 * 10**-34, \n",
    "        m: 9.109382 * 10**-31, \n",
    "        wz: 393.426000 * 10**6, \n",
    "        wc: 2.63209*10**9}\n",
    "print(H2.expr_dict[\"c+_c\"])\n",
    "print(H2.expr_dict[\"m+_m\"])\n",
    "print(H2.expr_dict[\"c+_c+_c_c\"])\n",
    "print(H2.expr_dict[\"m+_m+_m_m\"])\n",
    "print(H2.expr_dict[\"c+_c_z+_z\"])\n",
    "print(H2.expr_dict[\"m+_m_z+_z\"])"
   ]
  },
  {
   "cell_type": "code",
   "execution_count": null,
   "id": "e00d4e10",
   "metadata": {},
   "outputs": [],
   "source": []
  }
 ],
 "metadata": {
  "kernelspec": {
   "display_name": "experiment",
   "language": "python",
   "name": "python3"
  },
  "language_info": {
   "codemirror_mode": {
    "name": "ipython",
    "version": 3
   },
   "file_extension": ".py",
   "mimetype": "text/x-python",
   "name": "python",
   "nbconvert_exporter": "python",
   "pygments_lexer": "ipython3",
   "version": "3.13.3"
  }
 },
 "nbformat": 4,
 "nbformat_minor": 5
}
